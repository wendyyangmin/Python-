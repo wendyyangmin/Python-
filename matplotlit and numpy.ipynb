{
 "cells": [
  {
   "cell_type": "markdown",
   "metadata": {},
   "source": [
    "# Assignment 10 Group 05"
   ]
  },
  {
   "cell_type": "markdown",
   "metadata": {},
   "source": [
    "### Part A"
   ]
  },
  {
   "cell_type": "markdown",
   "metadata": {},
   "source": [
    "The first step is to read the following files into Pandas data frames"
   ]
  },
  {
   "cell_type": "code",
   "execution_count": 3,
   "metadata": {},
   "outputs": [],
   "source": [
    "import pandas as pd"
   ]
  },
  {
   "cell_type": "code",
   "execution_count": 4,
   "metadata": {},
   "outputs": [
    {
     "data": {
      "text/html": [
       "<div>\n",
       "<style scoped>\n",
       "    .dataframe tbody tr th:only-of-type {\n",
       "        vertical-align: middle;\n",
       "    }\n",
       "\n",
       "    .dataframe tbody tr th {\n",
       "        vertical-align: top;\n",
       "    }\n",
       "\n",
       "    .dataframe thead th {\n",
       "        text-align: right;\n",
       "    }\n",
       "</style>\n",
       "<table border=\"1\" class=\"dataframe\">\n",
       "  <thead>\n",
       "    <tr style=\"text-align: right;\">\n",
       "      <th></th>\n",
       "      <th>Unnamed: 0</th>\n",
       "      <th>carrier</th>\n",
       "      <th>name</th>\n",
       "    </tr>\n",
       "  </thead>\n",
       "  <tbody>\n",
       "    <tr>\n",
       "      <th>0</th>\n",
       "      <td>1</td>\n",
       "      <td>9E</td>\n",
       "      <td>Endeavor Air Inc.</td>\n",
       "    </tr>\n",
       "    <tr>\n",
       "      <th>1</th>\n",
       "      <td>2</td>\n",
       "      <td>AA</td>\n",
       "      <td>American Airlines Inc.</td>\n",
       "    </tr>\n",
       "    <tr>\n",
       "      <th>2</th>\n",
       "      <td>3</td>\n",
       "      <td>AS</td>\n",
       "      <td>Alaska Airlines Inc.</td>\n",
       "    </tr>\n",
       "    <tr>\n",
       "      <th>3</th>\n",
       "      <td>4</td>\n",
       "      <td>B6</td>\n",
       "      <td>JetBlue Airways</td>\n",
       "    </tr>\n",
       "    <tr>\n",
       "      <th>4</th>\n",
       "      <td>5</td>\n",
       "      <td>DL</td>\n",
       "      <td>Delta Air Lines Inc.</td>\n",
       "    </tr>\n",
       "  </tbody>\n",
       "</table>\n",
       "</div>"
      ],
      "text/plain": [
       "   Unnamed: 0 carrier                    name\n",
       "0           1      9E       Endeavor Air Inc.\n",
       "1           2      AA  American Airlines Inc.\n",
       "2           3      AS    Alaska Airlines Inc.\n",
       "3           4      B6         JetBlue Airways\n",
       "4           5      DL    Delta Air Lines Inc."
      ]
     },
     "execution_count": 4,
     "metadata": {},
     "output_type": "execute_result"
    }
   ],
   "source": [
    "airlines = pd.read_csv('airlines.csv')\n",
    "airlines = pd.DataFrame(airlines)\n",
    "airlines.head()"
   ]
  },
  {
   "cell_type": "code",
   "execution_count": 5,
   "metadata": {},
   "outputs": [
    {
     "data": {
      "text/html": [
       "<div>\n",
       "<style scoped>\n",
       "    .dataframe tbody tr th:only-of-type {\n",
       "        vertical-align: middle;\n",
       "    }\n",
       "\n",
       "    .dataframe tbody tr th {\n",
       "        vertical-align: top;\n",
       "    }\n",
       "\n",
       "    .dataframe thead th {\n",
       "        text-align: right;\n",
       "    }\n",
       "</style>\n",
       "<table border=\"1\" class=\"dataframe\">\n",
       "  <thead>\n",
       "    <tr style=\"text-align: right;\">\n",
       "      <th></th>\n",
       "      <th>Unnamed: 0</th>\n",
       "      <th>faa</th>\n",
       "      <th>name</th>\n",
       "      <th>lat</th>\n",
       "      <th>lon</th>\n",
       "      <th>alt</th>\n",
       "      <th>tz</th>\n",
       "      <th>dst</th>\n",
       "      <th>tzone</th>\n",
       "    </tr>\n",
       "  </thead>\n",
       "  <tbody>\n",
       "    <tr>\n",
       "      <th>0</th>\n",
       "      <td>1</td>\n",
       "      <td>04G</td>\n",
       "      <td>Lansdowne Airport</td>\n",
       "      <td>41.130472</td>\n",
       "      <td>-80.619583</td>\n",
       "      <td>1044</td>\n",
       "      <td>-5</td>\n",
       "      <td>A</td>\n",
       "      <td>America/New_York</td>\n",
       "    </tr>\n",
       "    <tr>\n",
       "      <th>1</th>\n",
       "      <td>2</td>\n",
       "      <td>06A</td>\n",
       "      <td>Moton Field Municipal Airport</td>\n",
       "      <td>32.460572</td>\n",
       "      <td>-85.680028</td>\n",
       "      <td>264</td>\n",
       "      <td>-6</td>\n",
       "      <td>A</td>\n",
       "      <td>America/Chicago</td>\n",
       "    </tr>\n",
       "    <tr>\n",
       "      <th>2</th>\n",
       "      <td>3</td>\n",
       "      <td>06C</td>\n",
       "      <td>Schaumburg Regional</td>\n",
       "      <td>41.989341</td>\n",
       "      <td>-88.101243</td>\n",
       "      <td>801</td>\n",
       "      <td>-6</td>\n",
       "      <td>A</td>\n",
       "      <td>America/Chicago</td>\n",
       "    </tr>\n",
       "    <tr>\n",
       "      <th>3</th>\n",
       "      <td>4</td>\n",
       "      <td>06N</td>\n",
       "      <td>Randall Airport</td>\n",
       "      <td>41.431912</td>\n",
       "      <td>-74.391561</td>\n",
       "      <td>523</td>\n",
       "      <td>-5</td>\n",
       "      <td>A</td>\n",
       "      <td>America/New_York</td>\n",
       "    </tr>\n",
       "    <tr>\n",
       "      <th>4</th>\n",
       "      <td>5</td>\n",
       "      <td>09J</td>\n",
       "      <td>Jekyll Island Airport</td>\n",
       "      <td>31.074472</td>\n",
       "      <td>-81.427778</td>\n",
       "      <td>11</td>\n",
       "      <td>-5</td>\n",
       "      <td>A</td>\n",
       "      <td>America/New_York</td>\n",
       "    </tr>\n",
       "  </tbody>\n",
       "</table>\n",
       "</div>"
      ],
      "text/plain": [
       "   Unnamed: 0  faa                           name        lat        lon   alt  \\\n",
       "0           1  04G              Lansdowne Airport  41.130472 -80.619583  1044   \n",
       "1           2  06A  Moton Field Municipal Airport  32.460572 -85.680028   264   \n",
       "2           3  06C            Schaumburg Regional  41.989341 -88.101243   801   \n",
       "3           4  06N                Randall Airport  41.431912 -74.391561   523   \n",
       "4           5  09J          Jekyll Island Airport  31.074472 -81.427778    11   \n",
       "\n",
       "   tz dst             tzone  \n",
       "0  -5   A  America/New_York  \n",
       "1  -6   A   America/Chicago  \n",
       "2  -6   A   America/Chicago  \n",
       "3  -5   A  America/New_York  \n",
       "4  -5   A  America/New_York  "
      ]
     },
     "execution_count": 5,
     "metadata": {},
     "output_type": "execute_result"
    }
   ],
   "source": [
    "airports = pd.read_csv('airports.csv')\n",
    "airports = pd.DataFrame(airports)\n",
    "airports.head()"
   ]
  },
  {
   "cell_type": "code",
   "execution_count": 6,
   "metadata": {},
   "outputs": [
    {
     "data": {
      "text/html": [
       "<div>\n",
       "<style scoped>\n",
       "    .dataframe tbody tr th:only-of-type {\n",
       "        vertical-align: middle;\n",
       "    }\n",
       "\n",
       "    .dataframe tbody tr th {\n",
       "        vertical-align: top;\n",
       "    }\n",
       "\n",
       "    .dataframe thead th {\n",
       "        text-align: right;\n",
       "    }\n",
       "</style>\n",
       "<table border=\"1\" class=\"dataframe\">\n",
       "  <thead>\n",
       "    <tr style=\"text-align: right;\">\n",
       "      <th></th>\n",
       "      <th>Unnamed: 0</th>\n",
       "      <th>year</th>\n",
       "      <th>month</th>\n",
       "      <th>day</th>\n",
       "      <th>dep_time</th>\n",
       "      <th>sched_dep_time</th>\n",
       "      <th>dep_delay</th>\n",
       "      <th>arr_time</th>\n",
       "      <th>sched_arr_time</th>\n",
       "      <th>arr_delay</th>\n",
       "      <th>carrier</th>\n",
       "      <th>flight</th>\n",
       "      <th>tailnum</th>\n",
       "      <th>origin</th>\n",
       "      <th>dest</th>\n",
       "      <th>air_time</th>\n",
       "      <th>distance</th>\n",
       "      <th>hour</th>\n",
       "      <th>minute</th>\n",
       "      <th>time_hour</th>\n",
       "    </tr>\n",
       "  </thead>\n",
       "  <tbody>\n",
       "    <tr>\n",
       "      <th>0</th>\n",
       "      <td>1</td>\n",
       "      <td>2013</td>\n",
       "      <td>1</td>\n",
       "      <td>1</td>\n",
       "      <td>517.0</td>\n",
       "      <td>515</td>\n",
       "      <td>2.0</td>\n",
       "      <td>830.0</td>\n",
       "      <td>819</td>\n",
       "      <td>11.0</td>\n",
       "      <td>UA</td>\n",
       "      <td>1545</td>\n",
       "      <td>N14228</td>\n",
       "      <td>EWR</td>\n",
       "      <td>IAH</td>\n",
       "      <td>227.0</td>\n",
       "      <td>1400</td>\n",
       "      <td>5</td>\n",
       "      <td>15</td>\n",
       "      <td>2013-01-01 05:00:00</td>\n",
       "    </tr>\n",
       "    <tr>\n",
       "      <th>1</th>\n",
       "      <td>2</td>\n",
       "      <td>2013</td>\n",
       "      <td>1</td>\n",
       "      <td>1</td>\n",
       "      <td>533.0</td>\n",
       "      <td>529</td>\n",
       "      <td>4.0</td>\n",
       "      <td>850.0</td>\n",
       "      <td>830</td>\n",
       "      <td>20.0</td>\n",
       "      <td>UA</td>\n",
       "      <td>1714</td>\n",
       "      <td>N24211</td>\n",
       "      <td>LGA</td>\n",
       "      <td>IAH</td>\n",
       "      <td>227.0</td>\n",
       "      <td>1416</td>\n",
       "      <td>5</td>\n",
       "      <td>29</td>\n",
       "      <td>2013-01-01 05:00:00</td>\n",
       "    </tr>\n",
       "    <tr>\n",
       "      <th>2</th>\n",
       "      <td>3</td>\n",
       "      <td>2013</td>\n",
       "      <td>1</td>\n",
       "      <td>1</td>\n",
       "      <td>542.0</td>\n",
       "      <td>540</td>\n",
       "      <td>2.0</td>\n",
       "      <td>923.0</td>\n",
       "      <td>850</td>\n",
       "      <td>33.0</td>\n",
       "      <td>AA</td>\n",
       "      <td>1141</td>\n",
       "      <td>N619AA</td>\n",
       "      <td>JFK</td>\n",
       "      <td>MIA</td>\n",
       "      <td>160.0</td>\n",
       "      <td>1089</td>\n",
       "      <td>5</td>\n",
       "      <td>40</td>\n",
       "      <td>2013-01-01 05:00:00</td>\n",
       "    </tr>\n",
       "    <tr>\n",
       "      <th>3</th>\n",
       "      <td>4</td>\n",
       "      <td>2013</td>\n",
       "      <td>1</td>\n",
       "      <td>1</td>\n",
       "      <td>544.0</td>\n",
       "      <td>545</td>\n",
       "      <td>-1.0</td>\n",
       "      <td>1004.0</td>\n",
       "      <td>1022</td>\n",
       "      <td>-18.0</td>\n",
       "      <td>B6</td>\n",
       "      <td>725</td>\n",
       "      <td>N804JB</td>\n",
       "      <td>JFK</td>\n",
       "      <td>BQN</td>\n",
       "      <td>183.0</td>\n",
       "      <td>1576</td>\n",
       "      <td>5</td>\n",
       "      <td>45</td>\n",
       "      <td>2013-01-01 05:00:00</td>\n",
       "    </tr>\n",
       "    <tr>\n",
       "      <th>4</th>\n",
       "      <td>5</td>\n",
       "      <td>2013</td>\n",
       "      <td>1</td>\n",
       "      <td>1</td>\n",
       "      <td>554.0</td>\n",
       "      <td>600</td>\n",
       "      <td>-6.0</td>\n",
       "      <td>812.0</td>\n",
       "      <td>837</td>\n",
       "      <td>-25.0</td>\n",
       "      <td>DL</td>\n",
       "      <td>461</td>\n",
       "      <td>N668DN</td>\n",
       "      <td>LGA</td>\n",
       "      <td>ATL</td>\n",
       "      <td>116.0</td>\n",
       "      <td>762</td>\n",
       "      <td>6</td>\n",
       "      <td>0</td>\n",
       "      <td>2013-01-01 06:00:00</td>\n",
       "    </tr>\n",
       "  </tbody>\n",
       "</table>\n",
       "</div>"
      ],
      "text/plain": [
       "   Unnamed: 0  year  month  day  dep_time  sched_dep_time  dep_delay  \\\n",
       "0           1  2013      1    1     517.0             515        2.0   \n",
       "1           2  2013      1    1     533.0             529        4.0   \n",
       "2           3  2013      1    1     542.0             540        2.0   \n",
       "3           4  2013      1    1     544.0             545       -1.0   \n",
       "4           5  2013      1    1     554.0             600       -6.0   \n",
       "\n",
       "   arr_time  sched_arr_time  arr_delay carrier  flight tailnum origin dest  \\\n",
       "0     830.0             819       11.0      UA    1545  N14228    EWR  IAH   \n",
       "1     850.0             830       20.0      UA    1714  N24211    LGA  IAH   \n",
       "2     923.0             850       33.0      AA    1141  N619AA    JFK  MIA   \n",
       "3    1004.0            1022      -18.0      B6     725  N804JB    JFK  BQN   \n",
       "4     812.0             837      -25.0      DL     461  N668DN    LGA  ATL   \n",
       "\n",
       "   air_time  distance  hour  minute            time_hour  \n",
       "0     227.0      1400     5      15  2013-01-01 05:00:00  \n",
       "1     227.0      1416     5      29  2013-01-01 05:00:00  \n",
       "2     160.0      1089     5      40  2013-01-01 05:00:00  \n",
       "3     183.0      1576     5      45  2013-01-01 05:00:00  \n",
       "4     116.0       762     6       0  2013-01-01 06:00:00  "
      ]
     },
     "execution_count": 6,
     "metadata": {},
     "output_type": "execute_result"
    }
   ],
   "source": [
    "flights = pd.read_csv('flights.csv')\n",
    "flights = pd.DataFrame(flights)\n",
    "flights.head()"
   ]
  },
  {
   "cell_type": "code",
   "execution_count": 7,
   "metadata": {},
   "outputs": [
    {
     "data": {
      "text/html": [
       "<div>\n",
       "<style scoped>\n",
       "    .dataframe tbody tr th:only-of-type {\n",
       "        vertical-align: middle;\n",
       "    }\n",
       "\n",
       "    .dataframe tbody tr th {\n",
       "        vertical-align: top;\n",
       "    }\n",
       "\n",
       "    .dataframe thead th {\n",
       "        text-align: right;\n",
       "    }\n",
       "</style>\n",
       "<table border=\"1\" class=\"dataframe\">\n",
       "  <thead>\n",
       "    <tr style=\"text-align: right;\">\n",
       "      <th></th>\n",
       "      <th>Unnamed: 0</th>\n",
       "      <th>tailnum</th>\n",
       "      <th>year</th>\n",
       "      <th>type</th>\n",
       "      <th>manufacturer</th>\n",
       "      <th>model</th>\n",
       "      <th>engines</th>\n",
       "      <th>seats</th>\n",
       "      <th>speed</th>\n",
       "      <th>engine</th>\n",
       "    </tr>\n",
       "  </thead>\n",
       "  <tbody>\n",
       "    <tr>\n",
       "      <th>0</th>\n",
       "      <td>1</td>\n",
       "      <td>N10156</td>\n",
       "      <td>2004.0</td>\n",
       "      <td>Fixed wing multi engine</td>\n",
       "      <td>EMBRAER</td>\n",
       "      <td>EMB-145XR</td>\n",
       "      <td>2</td>\n",
       "      <td>55</td>\n",
       "      <td>NaN</td>\n",
       "      <td>Turbo-fan</td>\n",
       "    </tr>\n",
       "    <tr>\n",
       "      <th>1</th>\n",
       "      <td>2</td>\n",
       "      <td>N102UW</td>\n",
       "      <td>1998.0</td>\n",
       "      <td>Fixed wing multi engine</td>\n",
       "      <td>AIRBUS INDUSTRIE</td>\n",
       "      <td>A320-214</td>\n",
       "      <td>2</td>\n",
       "      <td>182</td>\n",
       "      <td>NaN</td>\n",
       "      <td>Turbo-fan</td>\n",
       "    </tr>\n",
       "    <tr>\n",
       "      <th>2</th>\n",
       "      <td>3</td>\n",
       "      <td>N103US</td>\n",
       "      <td>1999.0</td>\n",
       "      <td>Fixed wing multi engine</td>\n",
       "      <td>AIRBUS INDUSTRIE</td>\n",
       "      <td>A320-214</td>\n",
       "      <td>2</td>\n",
       "      <td>182</td>\n",
       "      <td>NaN</td>\n",
       "      <td>Turbo-fan</td>\n",
       "    </tr>\n",
       "    <tr>\n",
       "      <th>3</th>\n",
       "      <td>4</td>\n",
       "      <td>N104UW</td>\n",
       "      <td>1999.0</td>\n",
       "      <td>Fixed wing multi engine</td>\n",
       "      <td>AIRBUS INDUSTRIE</td>\n",
       "      <td>A320-214</td>\n",
       "      <td>2</td>\n",
       "      <td>182</td>\n",
       "      <td>NaN</td>\n",
       "      <td>Turbo-fan</td>\n",
       "    </tr>\n",
       "    <tr>\n",
       "      <th>4</th>\n",
       "      <td>5</td>\n",
       "      <td>N10575</td>\n",
       "      <td>2002.0</td>\n",
       "      <td>Fixed wing multi engine</td>\n",
       "      <td>EMBRAER</td>\n",
       "      <td>EMB-145LR</td>\n",
       "      <td>2</td>\n",
       "      <td>55</td>\n",
       "      <td>NaN</td>\n",
       "      <td>Turbo-fan</td>\n",
       "    </tr>\n",
       "  </tbody>\n",
       "</table>\n",
       "</div>"
      ],
      "text/plain": [
       "   Unnamed: 0 tailnum    year                     type      manufacturer  \\\n",
       "0           1  N10156  2004.0  Fixed wing multi engine           EMBRAER   \n",
       "1           2  N102UW  1998.0  Fixed wing multi engine  AIRBUS INDUSTRIE   \n",
       "2           3  N103US  1999.0  Fixed wing multi engine  AIRBUS INDUSTRIE   \n",
       "3           4  N104UW  1999.0  Fixed wing multi engine  AIRBUS INDUSTRIE   \n",
       "4           5  N10575  2002.0  Fixed wing multi engine           EMBRAER   \n",
       "\n",
       "       model  engines  seats  speed     engine  \n",
       "0  EMB-145XR        2     55    NaN  Turbo-fan  \n",
       "1   A320-214        2    182    NaN  Turbo-fan  \n",
       "2   A320-214        2    182    NaN  Turbo-fan  \n",
       "3   A320-214        2    182    NaN  Turbo-fan  \n",
       "4  EMB-145LR        2     55    NaN  Turbo-fan  "
      ]
     },
     "execution_count": 7,
     "metadata": {},
     "output_type": "execute_result"
    }
   ],
   "source": [
    "planes = pd.read_csv('planes.csv')\n",
    "planes = pd.DataFrame(planes)\n",
    "planes.head()"
   ]
  },
  {
   "cell_type": "code",
   "execution_count": 8,
   "metadata": {},
   "outputs": [
    {
     "data": {
      "text/html": [
       "<div>\n",
       "<style scoped>\n",
       "    .dataframe tbody tr th:only-of-type {\n",
       "        vertical-align: middle;\n",
       "    }\n",
       "\n",
       "    .dataframe tbody tr th {\n",
       "        vertical-align: top;\n",
       "    }\n",
       "\n",
       "    .dataframe thead th {\n",
       "        text-align: right;\n",
       "    }\n",
       "</style>\n",
       "<table border=\"1\" class=\"dataframe\">\n",
       "  <thead>\n",
       "    <tr style=\"text-align: right;\">\n",
       "      <th></th>\n",
       "      <th>Unnamed: 0</th>\n",
       "      <th>origin</th>\n",
       "      <th>year</th>\n",
       "      <th>month</th>\n",
       "      <th>day</th>\n",
       "      <th>hour</th>\n",
       "      <th>temp</th>\n",
       "      <th>dewp</th>\n",
       "      <th>humid</th>\n",
       "      <th>wind_dir</th>\n",
       "      <th>wind_speed</th>\n",
       "      <th>wind_gust</th>\n",
       "      <th>precip</th>\n",
       "      <th>pressure</th>\n",
       "      <th>visib</th>\n",
       "      <th>time_hour</th>\n",
       "    </tr>\n",
       "  </thead>\n",
       "  <tbody>\n",
       "    <tr>\n",
       "      <th>0</th>\n",
       "      <td>1</td>\n",
       "      <td>EWR</td>\n",
       "      <td>2013</td>\n",
       "      <td>1</td>\n",
       "      <td>1</td>\n",
       "      <td>0</td>\n",
       "      <td>37.04</td>\n",
       "      <td>21.92</td>\n",
       "      <td>53.97</td>\n",
       "      <td>230.0</td>\n",
       "      <td>10.35702</td>\n",
       "      <td>11.918651</td>\n",
       "      <td>0.0</td>\n",
       "      <td>1013.9</td>\n",
       "      <td>10.0</td>\n",
       "      <td>2012-12-31 19:00:00</td>\n",
       "    </tr>\n",
       "    <tr>\n",
       "      <th>1</th>\n",
       "      <td>2</td>\n",
       "      <td>EWR</td>\n",
       "      <td>2013</td>\n",
       "      <td>1</td>\n",
       "      <td>1</td>\n",
       "      <td>1</td>\n",
       "      <td>37.04</td>\n",
       "      <td>21.92</td>\n",
       "      <td>53.97</td>\n",
       "      <td>230.0</td>\n",
       "      <td>13.80936</td>\n",
       "      <td>15.891535</td>\n",
       "      <td>0.0</td>\n",
       "      <td>1013.0</td>\n",
       "      <td>10.0</td>\n",
       "      <td>2012-12-31 20:00:00</td>\n",
       "    </tr>\n",
       "    <tr>\n",
       "      <th>2</th>\n",
       "      <td>3</td>\n",
       "      <td>EWR</td>\n",
       "      <td>2013</td>\n",
       "      <td>1</td>\n",
       "      <td>1</td>\n",
       "      <td>2</td>\n",
       "      <td>37.94</td>\n",
       "      <td>21.92</td>\n",
       "      <td>52.09</td>\n",
       "      <td>230.0</td>\n",
       "      <td>12.65858</td>\n",
       "      <td>14.567241</td>\n",
       "      <td>0.0</td>\n",
       "      <td>1012.6</td>\n",
       "      <td>10.0</td>\n",
       "      <td>2012-12-31 21:00:00</td>\n",
       "    </tr>\n",
       "    <tr>\n",
       "      <th>3</th>\n",
       "      <td>4</td>\n",
       "      <td>EWR</td>\n",
       "      <td>2013</td>\n",
       "      <td>1</td>\n",
       "      <td>1</td>\n",
       "      <td>3</td>\n",
       "      <td>37.94</td>\n",
       "      <td>23.00</td>\n",
       "      <td>54.51</td>\n",
       "      <td>230.0</td>\n",
       "      <td>13.80936</td>\n",
       "      <td>15.891535</td>\n",
       "      <td>0.0</td>\n",
       "      <td>1012.7</td>\n",
       "      <td>10.0</td>\n",
       "      <td>2012-12-31 22:00:00</td>\n",
       "    </tr>\n",
       "    <tr>\n",
       "      <th>4</th>\n",
       "      <td>5</td>\n",
       "      <td>EWR</td>\n",
       "      <td>2013</td>\n",
       "      <td>1</td>\n",
       "      <td>1</td>\n",
       "      <td>4</td>\n",
       "      <td>37.94</td>\n",
       "      <td>24.08</td>\n",
       "      <td>57.04</td>\n",
       "      <td>240.0</td>\n",
       "      <td>14.96014</td>\n",
       "      <td>17.215830</td>\n",
       "      <td>0.0</td>\n",
       "      <td>1012.8</td>\n",
       "      <td>10.0</td>\n",
       "      <td>2012-12-31 23:00:00</td>\n",
       "    </tr>\n",
       "  </tbody>\n",
       "</table>\n",
       "</div>"
      ],
      "text/plain": [
       "   Unnamed: 0 origin  year  month  day  hour   temp   dewp  humid  wind_dir  \\\n",
       "0           1    EWR  2013      1    1     0  37.04  21.92  53.97     230.0   \n",
       "1           2    EWR  2013      1    1     1  37.04  21.92  53.97     230.0   \n",
       "2           3    EWR  2013      1    1     2  37.94  21.92  52.09     230.0   \n",
       "3           4    EWR  2013      1    1     3  37.94  23.00  54.51     230.0   \n",
       "4           5    EWR  2013      1    1     4  37.94  24.08  57.04     240.0   \n",
       "\n",
       "   wind_speed  wind_gust  precip  pressure  visib            time_hour  \n",
       "0    10.35702  11.918651     0.0    1013.9   10.0  2012-12-31 19:00:00  \n",
       "1    13.80936  15.891535     0.0    1013.0   10.0  2012-12-31 20:00:00  \n",
       "2    12.65858  14.567241     0.0    1012.6   10.0  2012-12-31 21:00:00  \n",
       "3    13.80936  15.891535     0.0    1012.7   10.0  2012-12-31 22:00:00  \n",
       "4    14.96014  17.215830     0.0    1012.8   10.0  2012-12-31 23:00:00  "
      ]
     },
     "execution_count": 8,
     "metadata": {},
     "output_type": "execute_result"
    }
   ],
   "source": [
    "weather = pd.read_csv('weather.csv')\n",
    "weather = pd.DataFrame(weather)\n",
    "weather.head()"
   ]
  },
  {
   "cell_type": "markdown",
   "metadata": {},
   "source": [
    "i. Print out the number of rows in each of the five files."
   ]
  },
  {
   "cell_type": "code",
   "execution_count": 7,
   "metadata": {},
   "outputs": [
    {
     "data": {
      "text/plain": [
       "(16, 3)"
      ]
     },
     "execution_count": 7,
     "metadata": {},
     "output_type": "execute_result"
    }
   ],
   "source": [
    "airlines.shape"
   ]
  },
  {
   "cell_type": "markdown",
   "metadata": {},
   "source": [
    "From the outcome, this file has 16 rows"
   ]
  },
  {
   "cell_type": "code",
   "execution_count": 8,
   "metadata": {},
   "outputs": [
    {
     "data": {
      "text/plain": [
       "(1458, 9)"
      ]
     },
     "execution_count": 8,
     "metadata": {},
     "output_type": "execute_result"
    }
   ],
   "source": [
    "airports.shape"
   ]
  },
  {
   "cell_type": "markdown",
   "metadata": {},
   "source": [
    "From the outcome, this file has 1458 rows"
   ]
  },
  {
   "cell_type": "code",
   "execution_count": 9,
   "metadata": {},
   "outputs": [
    {
     "data": {
      "text/plain": [
       "(336776, 20)"
      ]
     },
     "execution_count": 9,
     "metadata": {},
     "output_type": "execute_result"
    }
   ],
   "source": [
    "flights.shape"
   ]
  },
  {
   "cell_type": "markdown",
   "metadata": {},
   "source": [
    "From the outcome, this file has 336776 rows"
   ]
  },
  {
   "cell_type": "code",
   "execution_count": 10,
   "metadata": {},
   "outputs": [
    {
     "data": {
      "text/plain": [
       "(3322, 10)"
      ]
     },
     "execution_count": 10,
     "metadata": {},
     "output_type": "execute_result"
    }
   ],
   "source": [
    "planes.shape"
   ]
  },
  {
   "cell_type": "markdown",
   "metadata": {},
   "source": [
    "From the outcome, this file has 3322 rows"
   ]
  },
  {
   "cell_type": "code",
   "execution_count": 11,
   "metadata": {},
   "outputs": [
    {
     "data": {
      "text/plain": [
       "(26130, 16)"
      ]
     },
     "execution_count": 11,
     "metadata": {},
     "output_type": "execute_result"
    }
   ],
   "source": [
    "weather.shape"
   ]
  },
  {
   "cell_type": "markdown",
   "metadata": {},
   "source": [
    "From the outcome, this file has 26130 rows"
   ]
  },
  {
   "cell_type": "markdown",
   "metadata": {},
   "source": [
    "ii. Show histograms of all airlines for departure delay by matplotlib."
   ]
  },
  {
   "cell_type": "code",
   "execution_count": 12,
   "metadata": {},
   "outputs": [],
   "source": [
    "import matplotlib.pyplot as plt\n",
    "import matplotlib\n",
    "import numpy as np\n",
    "%matplotlib inline"
   ]
  },
  {
   "cell_type": "code",
   "execution_count": 13,
   "metadata": {},
   "outputs": [
    {
     "data": {
      "image/png": "[encoded data removed]",
      "text/plain": [
       "<Figure size 432x288 with 1 Axes>"
      ]
     },
     "metadata": {},
     "output_type": "display_data"
    }
   ],
   "source": [
    "carrier = flights['carrier'].unique().tolist()\n",
    "for i in carrier:\n",
    "    x = flights.loc[flights['carrier'] == i]\n",
    "    plt.hist(pd.to_numeric(x['dep_delay'].dropna()),label = i)\n",
    "\n",
    "plt.legend(loc='upper right', ncol = 2)\n",
    "plt.xlim(-50,280)\n",
    "plt.grid(ls = '--')\n",
    "plt.show()"
   ]
  },
  {
   "cell_type": "markdown",
   "metadata": {},
   "source": [
    "In our opinion, the best in terms of on time departure means the depay time equal 0 should be the more the better. From the figure above, we could see that UA airline is the best in terms of on time departure because it stacks the most around 0."
   ]
  },
  {
   "cell_type": "markdown",
   "metadata": {},
   "source": [
    "ii. Show histograms of all airlines for departure delay by ggplot."
   ]
  },
  {
   "cell_type": "markdown",
   "metadata": {},
   "source": [
    "install 'ggplot' package"
   ]
  },
  {
   "cell_type": "code",
   "execution_count": 14,
   "metadata": {},
   "outputs": [
    {
     "name": "stdout",
     "output_type": "stream",
     "text": [
      "Requirement already up-to-date: pip in /anaconda3/lib/python3.6/site-packages (18.1)\n",
      "Requirement already satisfied: msgpack in /anaconda3/lib/python3.6/site-packages (0.5.6)\n",
      "Requirement already satisfied: ggplot in /anaconda3/lib/python3.6/site-packages (0.11.5)\n",
      "Requirement already satisfied: matplotlib in /anaconda3/lib/python3.6/site-packages (from ggplot) (2.2.2)\n",
      "Requirement already satisfied: scipy in /anaconda3/lib/python3.6/site-packages (from ggplot) (1.1.0)\n",
      "Requirement already satisfied: brewer2mpl in /anaconda3/lib/python3.6/site-packages (from ggplot) (1.4.1)\n",
      "Requirement already satisfied: cycler in /anaconda3/lib/python3.6/site-packages (from ggplot) (0.10.0)\n",
      "Requirement already satisfied: patsy>=0.4 in /anaconda3/lib/python3.6/site-packages (from ggplot) (0.5.0)\n",
      "Requirement already satisfied: numpy in /anaconda3/lib/python3.6/site-packages (from ggplot) (1.14.3)\n",
      "Requirement already satisfied: statsmodels in /anaconda3/lib/python3.6/site-packages (from ggplot) (0.9.0)\n",
      "Requirement already satisfied: six in /anaconda3/lib/python3.6/site-packages (from ggplot) (1.11.0)\n",
      "Requirement already satisfied: pandas in /anaconda3/lib/python3.6/site-packages (from ggplot) (0.23.0)\n",
      "Requirement already satisfied: pyparsing!=2.0.4,!=2.1.2,!=2.1.6,>=2.0.1 in /anaconda3/lib/python3.6/site-packages (from matplotlib->ggplot) (2.2.0)\n",
      "Requirement already satisfied: python-dateutil>=2.1 in /anaconda3/lib/python3.6/site-packages (from matplotlib->ggplot) (2.7.3)\n",
      "Requirement already satisfied: pytz in /anaconda3/lib/python3.6/site-packages (from matplotlib->ggplot) (2018.4)\n",
      "Requirement already satisfied: kiwisolver>=1.0.1 in /anaconda3/lib/python3.6/site-packages (from matplotlib->ggplot) (1.0.1)\n",
      "Requirement already satisfied: setuptools in /anaconda3/lib/python3.6/site-packages (from kiwisolver>=1.0.1->matplotlib->ggplot) (39.1.0)\n"
     ]
    },
    {
     "name": "stderr",
     "output_type": "stream",
     "text": [
      "/anaconda3/lib/python3.6/site-packages/ggplot/utils.py:81: FutureWarning: pandas.tslib is deprecated and will be removed in a future version.\n",
      "You can access Timestamp as pandas.Timestamp\n",
      "  pd.tslib.Timestamp,\n"
     ]
    }
   ],
   "source": [
    "!pip install --upgrade pip\n",
    "!pip install msgpack \n",
    "!pip install ggplot\n",
    "import ggplot\n",
    "from ggplot import *"
   ]
  },
  {
   "cell_type": "code",
   "execution_count": 15,
   "metadata": {},
   "outputs": [
    {
     "data": {
      "image/png": "[encoded data removed]",
      "text/plain": [
       "<Figure size 792x576 with 1 Axes>"
      ]
     },
     "metadata": {},
     "output_type": "display_data"
    },
    {
     "data": {
      "text/plain": [
       "<ggplot: (287029978)>"
      ]
     },
     "execution_count": 15,
     "metadata": {},
     "output_type": "execute_result"
    }
   ],
   "source": [
    "ggplot(aes(x = 'dep_delay', fill = 'carrier'), data = flights) + geom_histogram(binwidth = 10) + ggtitle('departure delay')\n"
   ]
  },
  {
   "cell_type": "markdown",
   "metadata": {},
   "source": [
    "From the above outcome, we could see that UA airline is the best in terms of on time departure because it stacks the most around 0, but to confirm the result again, we use another way to plot as a reference."
   ]
  },
  {
   "cell_type": "code",
   "execution_count": null,
   "metadata": {},
   "outputs": [],
   "source": [
    "ggplot(aes(x = 'dep_delay'), data = flights) + geom_histogram() + ggtitle('departure delay for each airline') + facet_wrap(\"carrier\")"
   ]
  },
  {
   "cell_type": "markdown",
   "metadata": {},
   "source": [
    "Now it is clear that UA has the most delay time around 0, so UA is the best which confirms our result again."
   ]
  },
  {
   "cell_type": "markdown",
   "metadata": {},
   "source": [
    "iii. Create a dataframe containing the means and standard deviations of inter-arrival times for the top 10 busiest airports (in terms of highest average number of flights arrived per day) in the list provided. The data frame should contain the full name of the airport and the average number of flights per day, means of inter-arrival times, and standard deviations of inter-arrival times."
   ]
  },
  {
   "cell_type": "code",
   "execution_count": 9,
   "metadata": {
    "scrolled": true
   },
   "outputs": [
    {
     "data": {
      "text/html": [
       "<div>\n",
       "<style scoped>\n",
       "    .dataframe tbody tr th:only-of-type {\n",
       "        vertical-align: middle;\n",
       "    }\n",
       "\n",
       "    .dataframe tbody tr th {\n",
       "        vertical-align: top;\n",
       "    }\n",
       "\n",
       "    .dataframe thead th {\n",
       "        text-align: right;\n",
       "    }\n",
       "</style>\n",
       "<table border=\"1\" class=\"dataframe\">\n",
       "  <thead>\n",
       "    <tr style=\"text-align: right;\">\n",
       "      <th></th>\n",
       "      <th>year</th>\n",
       "      <th>month</th>\n",
       "      <th>day</th>\n",
       "      <th>arr_time</th>\n",
       "      <th>dest</th>\n",
       "    </tr>\n",
       "  </thead>\n",
       "  <tbody>\n",
       "    <tr>\n",
       "      <th>0</th>\n",
       "      <td>2013</td>\n",
       "      <td>1</td>\n",
       "      <td>1</td>\n",
       "      <td>830.0</td>\n",
       "      <td>IAH</td>\n",
       "    </tr>\n",
       "    <tr>\n",
       "      <th>1</th>\n",
       "      <td>2013</td>\n",
       "      <td>1</td>\n",
       "      <td>1</td>\n",
       "      <td>850.0</td>\n",
       "      <td>IAH</td>\n",
       "    </tr>\n",
       "    <tr>\n",
       "      <th>2</th>\n",
       "      <td>2013</td>\n",
       "      <td>1</td>\n",
       "      <td>1</td>\n",
       "      <td>923.0</td>\n",
       "      <td>MIA</td>\n",
       "    </tr>\n",
       "    <tr>\n",
       "      <th>3</th>\n",
       "      <td>2013</td>\n",
       "      <td>1</td>\n",
       "      <td>1</td>\n",
       "      <td>1004.0</td>\n",
       "      <td>BQN</td>\n",
       "    </tr>\n",
       "    <tr>\n",
       "      <th>4</th>\n",
       "      <td>2013</td>\n",
       "      <td>1</td>\n",
       "      <td>1</td>\n",
       "      <td>812.0</td>\n",
       "      <td>ATL</td>\n",
       "    </tr>\n",
       "  </tbody>\n",
       "</table>\n",
       "</div>"
      ],
      "text/plain": [
       "   year  month  day  arr_time dest\n",
       "0  2013      1    1     830.0  IAH\n",
       "1  2013      1    1     850.0  IAH\n",
       "2  2013      1    1     923.0  MIA\n",
       "3  2013      1    1    1004.0  BQN\n",
       "4  2013      1    1     812.0  ATL"
      ]
     },
     "execution_count": 9,
     "metadata": {},
     "output_type": "execute_result"
    }
   ],
   "source": [
    "time = flights[['year', 'month', 'day', 'arr_time', 'dest']]\n",
    "time = time.dropna()\n",
    "time.head()"
   ]
  },
  {
   "cell_type": "code",
   "execution_count": 10,
   "metadata": {},
   "outputs": [
    {
     "data": {
      "text/html": [
       "<div>\n",
       "<style scoped>\n",
       "    .dataframe tbody tr th:only-of-type {\n",
       "        vertical-align: middle;\n",
       "    }\n",
       "\n",
       "    .dataframe tbody tr th {\n",
       "        vertical-align: top;\n",
       "    }\n",
       "\n",
       "    .dataframe thead th {\n",
       "        text-align: right;\n",
       "    }\n",
       "</style>\n",
       "<table border=\"1\" class=\"dataframe\">\n",
       "  <thead>\n",
       "    <tr style=\"text-align: right;\">\n",
       "      <th></th>\n",
       "      <th>year</th>\n",
       "      <th>month</th>\n",
       "      <th>day</th>\n",
       "      <th>arr_time</th>\n",
       "      <th>dest</th>\n",
       "    </tr>\n",
       "  </thead>\n",
       "  <tbody>\n",
       "    <tr>\n",
       "      <th>0</th>\n",
       "      <td>2013</td>\n",
       "      <td>01</td>\n",
       "      <td>01</td>\n",
       "      <td>0830</td>\n",
       "      <td>IAH</td>\n",
       "    </tr>\n",
       "    <tr>\n",
       "      <th>1</th>\n",
       "      <td>2013</td>\n",
       "      <td>01</td>\n",
       "      <td>01</td>\n",
       "      <td>0850</td>\n",
       "      <td>IAH</td>\n",
       "    </tr>\n",
       "    <tr>\n",
       "      <th>2</th>\n",
       "      <td>2013</td>\n",
       "      <td>01</td>\n",
       "      <td>01</td>\n",
       "      <td>0923</td>\n",
       "      <td>MIA</td>\n",
       "    </tr>\n",
       "    <tr>\n",
       "      <th>3</th>\n",
       "      <td>2013</td>\n",
       "      <td>01</td>\n",
       "      <td>01</td>\n",
       "      <td>1004</td>\n",
       "      <td>BQN</td>\n",
       "    </tr>\n",
       "    <tr>\n",
       "      <th>4</th>\n",
       "      <td>2013</td>\n",
       "      <td>01</td>\n",
       "      <td>01</td>\n",
       "      <td>0812</td>\n",
       "      <td>ATL</td>\n",
       "    </tr>\n",
       "  </tbody>\n",
       "</table>\n",
       "</div>"
      ],
      "text/plain": [
       "   year month day arr_time dest\n",
       "0  2013    01  01     0830  IAH\n",
       "1  2013    01  01     0850  IAH\n",
       "2  2013    01  01     0923  MIA\n",
       "3  2013    01  01     1004  BQN\n",
       "4  2013    01  01     0812  ATL"
      ]
     },
     "execution_count": 10,
     "metadata": {},
     "output_type": "execute_result"
    }
   ],
   "source": [
    "#convert arrival time, month, day to str\n",
    "time.arr_time = pd.to_numeric(time['arr_time'], errors='coerce')\n",
    "time.arr_time = time.arr_time.astype(int)\n",
    "time.arr_time = time.arr_time.astype(str)\n",
    "time['arr_time'] = time['arr_time'].str.pad(4, side='left', fillchar='0')\n",
    "time.month = time.month.astype(str)\n",
    "time['month'] = time['month'].str.pad(2, side='left', fillchar='0')\n",
    "time.day = time.day.astype(str)\n",
    "time['day'] = time['day'].str.pad(2, side='left', fillchar='0')\n",
    "time.head()"
   ]
  },
  {
   "cell_type": "code",
   "execution_count": 11,
   "metadata": {
    "scrolled": true
   },
   "outputs": [
    {
     "data": {
      "text/html": [
       "<div>\n",
       "<style scoped>\n",
       "    .dataframe tbody tr th:only-of-type {\n",
       "        vertical-align: middle;\n",
       "    }\n",
       "\n",
       "    .dataframe tbody tr th {\n",
       "        vertical-align: top;\n",
       "    }\n",
       "\n",
       "    .dataframe thead th {\n",
       "        text-align: right;\n",
       "    }\n",
       "</style>\n",
       "<table border=\"1\" class=\"dataframe\">\n",
       "  <thead>\n",
       "    <tr style=\"text-align: right;\">\n",
       "      <th></th>\n",
       "      <th>year</th>\n",
       "      <th>month</th>\n",
       "      <th>day</th>\n",
       "      <th>arr_time</th>\n",
       "      <th>dest</th>\n",
       "      <th>hour</th>\n",
       "      <th>mins</th>\n",
       "      <th>ym</th>\n",
       "      <th>ymd</th>\n",
       "      <th>hm</th>\n",
       "      <th>arr</th>\n",
       "    </tr>\n",
       "  </thead>\n",
       "  <tbody>\n",
       "    <tr>\n",
       "      <th>0</th>\n",
       "      <td>2013</td>\n",
       "      <td>01</td>\n",
       "      <td>01</td>\n",
       "      <td>0830</td>\n",
       "      <td>IAH</td>\n",
       "      <td>08</td>\n",
       "      <td>30</td>\n",
       "      <td>2013-01</td>\n",
       "      <td>2013-01-01</td>\n",
       "      <td>08:30</td>\n",
       "      <td>2013-01-01 08:30</td>\n",
       "    </tr>\n",
       "    <tr>\n",
       "      <th>1</th>\n",
       "      <td>2013</td>\n",
       "      <td>01</td>\n",
       "      <td>01</td>\n",
       "      <td>0850</td>\n",
       "      <td>IAH</td>\n",
       "      <td>08</td>\n",
       "      <td>50</td>\n",
       "      <td>2013-01</td>\n",
       "      <td>2013-01-01</td>\n",
       "      <td>08:50</td>\n",
       "      <td>2013-01-01 08:50</td>\n",
       "    </tr>\n",
       "    <tr>\n",
       "      <th>2</th>\n",
       "      <td>2013</td>\n",
       "      <td>01</td>\n",
       "      <td>01</td>\n",
       "      <td>0923</td>\n",
       "      <td>MIA</td>\n",
       "      <td>09</td>\n",
       "      <td>23</td>\n",
       "      <td>2013-01</td>\n",
       "      <td>2013-01-01</td>\n",
       "      <td>09:23</td>\n",
       "      <td>2013-01-01 09:23</td>\n",
       "    </tr>\n",
       "    <tr>\n",
       "      <th>3</th>\n",
       "      <td>2013</td>\n",
       "      <td>01</td>\n",
       "      <td>01</td>\n",
       "      <td>1004</td>\n",
       "      <td>BQN</td>\n",
       "      <td>10</td>\n",
       "      <td>04</td>\n",
       "      <td>2013-01</td>\n",
       "      <td>2013-01-01</td>\n",
       "      <td>10:04</td>\n",
       "      <td>2013-01-01 10:04</td>\n",
       "    </tr>\n",
       "    <tr>\n",
       "      <th>4</th>\n",
       "      <td>2013</td>\n",
       "      <td>01</td>\n",
       "      <td>01</td>\n",
       "      <td>0812</td>\n",
       "      <td>ATL</td>\n",
       "      <td>08</td>\n",
       "      <td>12</td>\n",
       "      <td>2013-01</td>\n",
       "      <td>2013-01-01</td>\n",
       "      <td>08:12</td>\n",
       "      <td>2013-01-01 08:12</td>\n",
       "    </tr>\n",
       "  </tbody>\n",
       "</table>\n",
       "</div>"
      ],
      "text/plain": [
       "   year month day arr_time dest hour mins       ym         ymd     hm  \\\n",
       "0  2013    01  01     0830  IAH   08   30  2013-01  2013-01-01  08:30   \n",
       "1  2013    01  01     0850  IAH   08   50  2013-01  2013-01-01  08:50   \n",
       "2  2013    01  01     0923  MIA   09   23  2013-01  2013-01-01  09:23   \n",
       "3  2013    01  01     1004  BQN   10   04  2013-01  2013-01-01  10:04   \n",
       "4  2013    01  01     0812  ATL   08   12  2013-01  2013-01-01  08:12   \n",
       "\n",
       "                arr  \n",
       "0  2013-01-01 08:30  \n",
       "1  2013-01-01 08:50  \n",
       "2  2013-01-01 09:23  \n",
       "3  2013-01-01 10:04  \n",
       "4  2013-01-01 08:12  "
      ]
     },
     "execution_count": 11,
     "metadata": {},
     "output_type": "execute_result"
    }
   ],
   "source": [
    "#combine year date time to one column\n",
    "time['hour'] = time.arr_time.str[:2]\n",
    "time['mins'] = time.arr_time.str[2:]\n",
    "time['ym'] = time.year.astype(str).str.cat(time.month.astype(str), sep='-')\n",
    "time['ymd'] = time.ym.astype(str).str.cat(time.day.astype(str), sep='-')\n",
    "time['hm'] = time.hour.astype(str).str.cat(time.mins.astype(str), sep=':')\n",
    "time['arr'] = time.ymd.astype(str).str.cat(time.hm.astype(str), sep=' ')\n",
    "time.head()"
   ]
  },
  {
   "cell_type": "code",
   "execution_count": 12,
   "metadata": {
    "scrolled": false
   },
   "outputs": [
    {
     "data": {
      "text/html": [
       "<div>\n",
       "<style scoped>\n",
       "    .dataframe tbody tr th:only-of-type {\n",
       "        vertical-align: middle;\n",
       "    }\n",
       "\n",
       "    .dataframe tbody tr th {\n",
       "        vertical-align: top;\n",
       "    }\n",
       "\n",
       "    .dataframe thead th {\n",
       "        text-align: right;\n",
       "    }\n",
       "</style>\n",
       "<table border=\"1\" class=\"dataframe\">\n",
       "  <thead>\n",
       "    <tr style=\"text-align: right;\">\n",
       "      <th></th>\n",
       "      <th>dest</th>\n",
       "      <th>arrive</th>\n",
       "    </tr>\n",
       "  </thead>\n",
       "  <tbody>\n",
       "    <tr>\n",
       "      <th>0</th>\n",
       "      <td>IAH</td>\n",
       "      <td>2013-01-01 08:30:00</td>\n",
       "    </tr>\n",
       "    <tr>\n",
       "      <th>1</th>\n",
       "      <td>IAH</td>\n",
       "      <td>2013-01-01 08:50:00</td>\n",
       "    </tr>\n",
       "    <tr>\n",
       "      <th>2</th>\n",
       "      <td>MIA</td>\n",
       "      <td>2013-01-01 09:23:00</td>\n",
       "    </tr>\n",
       "    <tr>\n",
       "      <th>3</th>\n",
       "      <td>BQN</td>\n",
       "      <td>2013-01-01 10:04:00</td>\n",
       "    </tr>\n",
       "    <tr>\n",
       "      <th>4</th>\n",
       "      <td>ATL</td>\n",
       "      <td>2013-01-01 08:12:00</td>\n",
       "    </tr>\n",
       "  </tbody>\n",
       "</table>\n",
       "</div>"
      ],
      "text/plain": [
       "  dest              arrive\n",
       "0  IAH 2013-01-01 08:30:00\n",
       "1  IAH 2013-01-01 08:50:00\n",
       "2  MIA 2013-01-01 09:23:00\n",
       "3  BQN 2013-01-01 10:04:00\n",
       "4  ATL 2013-01-01 08:12:00"
      ]
     },
     "execution_count": 12,
     "metadata": {},
     "output_type": "execute_result"
    }
   ],
   "source": [
    "#convert the new column to date format\n",
    "time['arrive'] = pd.to_datetime(time['arr'], format ='%Y-%m-%d %H:%M', errors='coerce')\n",
    "times = time[['dest', 'arrive']]\n",
    "times.head()"
   ]
  },
  {
   "cell_type": "code",
   "execution_count": 13,
   "metadata": {},
   "outputs": [
    {
     "data": {
      "text/plain": [
       "year          0\n",
       "month         0\n",
       "day           0\n",
       "arr_time      0\n",
       "dest          0\n",
       "hour          0\n",
       "mins          0\n",
       "ym            0\n",
       "ymd           0\n",
       "hm            0\n",
       "arr           0\n",
       "arrive      150\n",
       "dtype: int64"
      ]
     },
     "execution_count": 13,
     "metadata": {},
     "output_type": "execute_result"
    }
   ],
   "source": [
    "time.isnull().sum()"
   ]
  },
  {
   "cell_type": "code",
   "execution_count": 14,
   "metadata": {
    "scrolled": true
   },
   "outputs": [
    {
     "data": {
      "text/plain": [
       "ATL    16873\n",
       "ORD    16607\n",
       "LAX    16058\n",
       "BOS    15028\n",
       "MCO    13979\n",
       "CLT    13684\n",
       "SFO    13212\n",
       "FLL    11930\n",
       "MIA    11625\n",
       "DCA     9125\n",
       "dtype: int64"
      ]
     },
     "execution_count": 14,
     "metadata": {},
     "output_type": "execute_result"
    }
   ],
   "source": [
    "pd.value_counts(times['dest'].values, sort=True).head(10)"
   ]
  },
  {
   "cell_type": "code",
   "execution_count": 15,
   "metadata": {},
   "outputs": [
    {
     "data": {
      "text/html": [
       "<div>\n",
       "<style scoped>\n",
       "    .dataframe tbody tr th:only-of-type {\n",
       "        vertical-align: middle;\n",
       "    }\n",
       "\n",
       "    .dataframe tbody tr th {\n",
       "        vertical-align: top;\n",
       "    }\n",
       "\n",
       "    .dataframe thead th {\n",
       "        text-align: right;\n",
       "    }\n",
       "</style>\n",
       "<table border=\"1\" class=\"dataframe\">\n",
       "  <thead>\n",
       "    <tr style=\"text-align: right;\">\n",
       "      <th></th>\n",
       "      <th>Dest</th>\n",
       "      <th>Airport</th>\n",
       "      <th>AveFlight</th>\n",
       "      <th>Mean</th>\n",
       "      <th>Std</th>\n",
       "    </tr>\n",
       "  </thead>\n",
       "  <tbody>\n",
       "    <tr>\n",
       "      <th>0</th>\n",
       "      <td>ATL</td>\n",
       "      <td>Hartsfield Jackson Atlanta Intl</td>\n",
       "      <td>46.227397</td>\n",
       "      <td>00:31:07.102548</td>\n",
       "      <td>01:14:48.856903</td>\n",
       "    </tr>\n",
       "    <tr>\n",
       "      <th>1</th>\n",
       "      <td>ORD</td>\n",
       "      <td>Chicago Ohare Intl</td>\n",
       "      <td>45.498630</td>\n",
       "      <td>00:31:37.266048</td>\n",
       "      <td>01:14:01.643826</td>\n",
       "    </tr>\n",
       "    <tr>\n",
       "      <th>2</th>\n",
       "      <td>LAX</td>\n",
       "      <td>Los Angeles Intl</td>\n",
       "      <td>43.994521</td>\n",
       "      <td>00:32:45.218746</td>\n",
       "      <td>01:10:49.087066</td>\n",
       "    </tr>\n",
       "    <tr>\n",
       "      <th>3</th>\n",
       "      <td>BOS</td>\n",
       "      <td>General Edward Lawrence Logan Intl</td>\n",
       "      <td>41.172603</td>\n",
       "      <td>00:34:57.599041</td>\n",
       "      <td>01:07:35.818239</td>\n",
       "    </tr>\n",
       "    <tr>\n",
       "      <th>4</th>\n",
       "      <td>MCO</td>\n",
       "      <td>Orlando Intl</td>\n",
       "      <td>38.298630</td>\n",
       "      <td>00:37:36.836530</td>\n",
       "      <td>01:14:23.796204</td>\n",
       "    </tr>\n",
       "    <tr>\n",
       "      <th>5</th>\n",
       "      <td>CLT</td>\n",
       "      <td>Charlotte Douglas Intl</td>\n",
       "      <td>37.490411</td>\n",
       "      <td>00:38:22.491228</td>\n",
       "      <td>01:10:30.738946</td>\n",
       "    </tr>\n",
       "    <tr>\n",
       "      <th>6</th>\n",
       "      <td>SFO</td>\n",
       "      <td>San Francisco Intl</td>\n",
       "      <td>36.197260</td>\n",
       "      <td>00:39:48.606271</td>\n",
       "      <td>01:27:29.376807</td>\n",
       "    </tr>\n",
       "    <tr>\n",
       "      <th>7</th>\n",
       "      <td>FLL</td>\n",
       "      <td>Fort Lauderdale Hollywood Intl</td>\n",
       "      <td>32.684932</td>\n",
       "      <td>00:44:05.526845</td>\n",
       "      <td>01:17:16.287719</td>\n",
       "    </tr>\n",
       "    <tr>\n",
       "      <th>8</th>\n",
       "      <td>MIA</td>\n",
       "      <td>Miami Intl</td>\n",
       "      <td>31.849315</td>\n",
       "      <td>00:45:12.543014</td>\n",
       "      <td>01:31:50.886113</td>\n",
       "    </tr>\n",
       "    <tr>\n",
       "      <th>9</th>\n",
       "      <td>DCA</td>\n",
       "      <td>Ronald Reagan Washington Natl</td>\n",
       "      <td>25.000000</td>\n",
       "      <td>00:57:36.073659</td>\n",
       "      <td>01:38:27.332963</td>\n",
       "    </tr>\n",
       "  </tbody>\n",
       "</table>\n",
       "</div>"
      ],
      "text/plain": [
       "  Dest                             Airport  AveFlight            Mean  \\\n",
       "0  ATL     Hartsfield Jackson Atlanta Intl  46.227397 00:31:07.102548   \n",
       "1  ORD                  Chicago Ohare Intl  45.498630 00:31:37.266048   \n",
       "2  LAX                    Los Angeles Intl  43.994521 00:32:45.218746   \n",
       "3  BOS  General Edward Lawrence Logan Intl  41.172603 00:34:57.599041   \n",
       "4  MCO                        Orlando Intl  38.298630 00:37:36.836530   \n",
       "5  CLT              Charlotte Douglas Intl  37.490411 00:38:22.491228   \n",
       "6  SFO                  San Francisco Intl  36.197260 00:39:48.606271   \n",
       "7  FLL      Fort Lauderdale Hollywood Intl  32.684932 00:44:05.526845   \n",
       "8  MIA                          Miami Intl  31.849315 00:45:12.543014   \n",
       "9  DCA       Ronald Reagan Washington Natl  25.000000 00:57:36.073659   \n",
       "\n",
       "              Std  \n",
       "0 01:14:48.856903  \n",
       "1 01:14:01.643826  \n",
       "2 01:10:49.087066  \n",
       "3 01:07:35.818239  \n",
       "4 01:14:23.796204  \n",
       "5 01:10:30.738946  \n",
       "6 01:27:29.376807  \n",
       "7 01:17:16.287719  \n",
       "8 01:31:50.886113  \n",
       "9 01:38:27.332963  "
      ]
     },
     "execution_count": 15,
     "metadata": {},
     "output_type": "execute_result"
    }
   ],
   "source": [
    "# Find the top 10 busiest airports\n",
    "times=times[['dest','arrive']]\n",
    "top10=times['dest'].value_counts().head(10)\n",
    "air=top10.index\n",
    "#cal mean\n",
    "fin=pd.DataFrame(columns=['Dest','Airport','AveFlight','Mean','Std'])\n",
    "\n",
    "for i in air:\n",
    "    dest=i\n",
    "    name=airports[airports['faa']==i]['name'] #find airport full name \n",
    "    diff=times[times['dest']==i]['arrive'].sort_values().diff().dropna() #calculate difference\n",
    "    mean=diff.mean()\n",
    "    std=diff.std()\n",
    "    df2 = pd.DataFrame([[i,name.values[0],top10[i]/365,mean,std]],columns=['Dest','Airport','AveFlight','Mean','Std'])\n",
    "    fin=fin.append(df2, ignore_index=True)\n",
    "fin"
   ]
  },
  {
   "cell_type": "markdown",
   "metadata": {},
   "source": [
    "iv. Provide the histogram and density plot of the inter-arrival times for the top five busiest airports in the list provided."
   ]
  },
  {
   "cell_type": "code",
   "execution_count": 16,
   "metadata": {},
   "outputs": [
    {
     "data": {
      "text/html": [
       "<div>\n",
       "<style scoped>\n",
       "    .dataframe tbody tr th:only-of-type {\n",
       "        vertical-align: middle;\n",
       "    }\n",
       "\n",
       "    .dataframe tbody tr th {\n",
       "        vertical-align: top;\n",
       "    }\n",
       "\n",
       "    .dataframe thead th {\n",
       "        text-align: right;\n",
       "    }\n",
       "</style>\n",
       "<table border=\"1\" class=\"dataframe\">\n",
       "  <thead>\n",
       "    <tr style=\"text-align: right;\">\n",
       "      <th></th>\n",
       "      <th>Dest</th>\n",
       "      <th>Airport</th>\n",
       "      <th>AveFlight</th>\n",
       "      <th>Mean</th>\n",
       "      <th>Std</th>\n",
       "    </tr>\n",
       "  </thead>\n",
       "  <tbody>\n",
       "    <tr>\n",
       "      <th>0</th>\n",
       "      <td>ATL</td>\n",
       "      <td>Hartsfield Jackson Atlanta Intl</td>\n",
       "      <td>46.227397</td>\n",
       "      <td>00:31:07.102548</td>\n",
       "      <td>01:14:48.856903</td>\n",
       "    </tr>\n",
       "    <tr>\n",
       "      <th>1</th>\n",
       "      <td>ORD</td>\n",
       "      <td>Chicago Ohare Intl</td>\n",
       "      <td>45.498630</td>\n",
       "      <td>00:31:37.266048</td>\n",
       "      <td>01:14:01.643826</td>\n",
       "    </tr>\n",
       "    <tr>\n",
       "      <th>2</th>\n",
       "      <td>LAX</td>\n",
       "      <td>Los Angeles Intl</td>\n",
       "      <td>43.994521</td>\n",
       "      <td>00:32:45.218746</td>\n",
       "      <td>01:10:49.087066</td>\n",
       "    </tr>\n",
       "    <tr>\n",
       "      <th>3</th>\n",
       "      <td>BOS</td>\n",
       "      <td>General Edward Lawrence Logan Intl</td>\n",
       "      <td>41.172603</td>\n",
       "      <td>00:34:57.599041</td>\n",
       "      <td>01:07:35.818239</td>\n",
       "    </tr>\n",
       "    <tr>\n",
       "      <th>4</th>\n",
       "      <td>MCO</td>\n",
       "      <td>Orlando Intl</td>\n",
       "      <td>38.298630</td>\n",
       "      <td>00:37:36.836530</td>\n",
       "      <td>01:14:23.796204</td>\n",
       "    </tr>\n",
       "  </tbody>\n",
       "</table>\n",
       "</div>"
      ],
      "text/plain": [
       "  Dest                             Airport  AveFlight            Mean  \\\n",
       "0  ATL     Hartsfield Jackson Atlanta Intl  46.227397 00:31:07.102548   \n",
       "1  ORD                  Chicago Ohare Intl  45.498630 00:31:37.266048   \n",
       "2  LAX                    Los Angeles Intl  43.994521 00:32:45.218746   \n",
       "3  BOS  General Edward Lawrence Logan Intl  41.172603 00:34:57.599041   \n",
       "4  MCO                        Orlando Intl  38.298630 00:37:36.836530   \n",
       "\n",
       "              Std  \n",
       "0 01:14:48.856903  \n",
       "1 01:14:01.643826  \n",
       "2 01:10:49.087066  \n",
       "3 01:07:35.818239  \n",
       "4 01:14:23.796204  "
      ]
     },
     "execution_count": 16,
     "metadata": {},
     "output_type": "execute_result"
    }
   ],
   "source": [
    "five = pd.DataFrame(fin).head(5)\n",
    "five"
   ]
  },
  {
   "cell_type": "markdown",
   "metadata": {},
   "source": [
    "The top 5 airports we take in consider are ORD, ATL, LAX, BOS, and MCO"
   ]
  },
  {
   "cell_type": "code",
   "execution_count": 17,
   "metadata": {},
   "outputs": [],
   "source": [
    "%matplotlib inline\n",
    "import matplotlib.pyplot as plt\n",
    "import numpy as np\n",
    "import pandas as pd"
   ]
  },
  {
   "cell_type": "code",
   "execution_count": 18,
   "metadata": {},
   "outputs": [],
   "source": [
    "ORD = times[times['dest'] == 'ORD']\n",
    "ATL = times[times['dest'] == 'ATL']\n",
    "LAX = times[times['dest'] == 'LAX']\n",
    "BOS = times[times['dest'] == 'BOS']\n",
    "MCO = times[times['dest'] == 'MCO']"
   ]
  },
  {
   "cell_type": "code",
   "execution_count": 19,
   "metadata": {},
   "outputs": [
    {
     "data": {
      "text/html": [
       "<div>\n",
       "<style scoped>\n",
       "    .dataframe tbody tr th:only-of-type {\n",
       "        vertical-align: middle;\n",
       "    }\n",
       "\n",
       "    .dataframe tbody tr th {\n",
       "        vertical-align: top;\n",
       "    }\n",
       "\n",
       "    .dataframe thead th {\n",
       "        text-align: right;\n",
       "    }\n",
       "</style>\n",
       "<table border=\"1\" class=\"dataframe\">\n",
       "  <thead>\n",
       "    <tr style=\"text-align: right;\">\n",
       "      <th></th>\n",
       "      <th>dest</th>\n",
       "      <th>arrive</th>\n",
       "      <th>diff</th>\n",
       "      <th>diffs</th>\n",
       "      <th>diffminute</th>\n",
       "    </tr>\n",
       "  </thead>\n",
       "  <tbody>\n",
       "    <tr>\n",
       "      <th>9</th>\n",
       "      <td>ORD</td>\n",
       "      <td>2013-01-01 07:53:00</td>\n",
       "      <td>00:13:00</td>\n",
       "      <td>780.0</td>\n",
       "      <td>13.0</td>\n",
       "    </tr>\n",
       "    <tr>\n",
       "      <th>25</th>\n",
       "      <td>ORD</td>\n",
       "      <td>2013-01-01 08:07:00</td>\n",
       "      <td>00:14:00</td>\n",
       "      <td>840.0</td>\n",
       "      <td>14.0</td>\n",
       "    </tr>\n",
       "    <tr>\n",
       "      <th>38</th>\n",
       "      <td>ORD</td>\n",
       "      <td>2013-01-01 08:24:00</td>\n",
       "      <td>00:17:00</td>\n",
       "      <td>1020.0</td>\n",
       "      <td>17.0</td>\n",
       "    </tr>\n",
       "    <tr>\n",
       "      <th>70</th>\n",
       "      <td>ORD</td>\n",
       "      <td>2013-01-01 08:52:00</td>\n",
       "      <td>00:28:00</td>\n",
       "      <td>1680.0</td>\n",
       "      <td>28.0</td>\n",
       "    </tr>\n",
       "    <tr>\n",
       "      <th>57</th>\n",
       "      <td>ORD</td>\n",
       "      <td>2013-01-01 08:54:00</td>\n",
       "      <td>00:02:00</td>\n",
       "      <td>120.0</td>\n",
       "      <td>2.0</td>\n",
       "    </tr>\n",
       "  </tbody>\n",
       "</table>\n",
       "</div>"
      ],
      "text/plain": [
       "   dest              arrive     diff   diffs  diffminute\n",
       "9   ORD 2013-01-01 07:53:00 00:13:00   780.0        13.0\n",
       "25  ORD 2013-01-01 08:07:00 00:14:00   840.0        14.0\n",
       "38  ORD 2013-01-01 08:24:00 00:17:00  1020.0        17.0\n",
       "70  ORD 2013-01-01 08:52:00 00:28:00  1680.0        28.0\n",
       "57  ORD 2013-01-01 08:54:00 00:02:00   120.0         2.0"
      ]
     },
     "execution_count": 19,
     "metadata": {},
     "output_type": "execute_result"
    }
   ],
   "source": [
    "ORD = ORD.sort_values(by=['arrive'])\n",
    "ORD['diff'] = ORD['arrive'].diff()\n",
    "# Get arrival difference time in seconds\n",
    "ORD[\"diffs\"] = ORD['diff'].dt.total_seconds()\n",
    "# Get arrival difference time in minutes\n",
    "ORD[\"diffminute\"] = ORD['diffs']/60\n",
    "ORD1 = ORD.dropna()\n",
    "ORD1.head()"
   ]
  },
  {
   "cell_type": "code",
   "execution_count": 20,
   "metadata": {},
   "outputs": [
    {
     "data": {
      "text/html": [
       "<div>\n",
       "<style scoped>\n",
       "    .dataframe tbody tr th:only-of-type {\n",
       "        vertical-align: middle;\n",
       "    }\n",
       "\n",
       "    .dataframe tbody tr th {\n",
       "        vertical-align: top;\n",
       "    }\n",
       "\n",
       "    .dataframe thead th {\n",
       "        text-align: right;\n",
       "    }\n",
       "</style>\n",
       "<table border=\"1\" class=\"dataframe\">\n",
       "  <thead>\n",
       "    <tr style=\"text-align: right;\">\n",
       "      <th></th>\n",
       "      <th>dest</th>\n",
       "      <th>arrive</th>\n",
       "      <th>diff</th>\n",
       "      <th>diffs</th>\n",
       "      <th>diffminute</th>\n",
       "    </tr>\n",
       "  </thead>\n",
       "  <tbody>\n",
       "    <tr>\n",
       "      <th>29</th>\n",
       "      <td>ATL</td>\n",
       "      <td>2013-01-01 08:33:00</td>\n",
       "      <td>00:21:00</td>\n",
       "      <td>1260.0</td>\n",
       "      <td>21.0</td>\n",
       "    </tr>\n",
       "    <tr>\n",
       "      <th>18</th>\n",
       "      <td>ATL</td>\n",
       "      <td>2013-01-01 08:37:00</td>\n",
       "      <td>00:04:00</td>\n",
       "      <td>240.0</td>\n",
       "      <td>4.0</td>\n",
       "    </tr>\n",
       "    <tr>\n",
       "      <th>23</th>\n",
       "      <td>ATL</td>\n",
       "      <td>2013-01-01 08:37:00</td>\n",
       "      <td>00:00:00</td>\n",
       "      <td>0.0</td>\n",
       "      <td>0.0</td>\n",
       "    </tr>\n",
       "    <tr>\n",
       "      <th>62</th>\n",
       "      <td>ATL</td>\n",
       "      <td>2013-01-01 09:44:00</td>\n",
       "      <td>01:07:00</td>\n",
       "      <td>4020.0</td>\n",
       "      <td>67.0</td>\n",
       "    </tr>\n",
       "    <tr>\n",
       "      <th>101</th>\n",
       "      <td>ATL</td>\n",
       "      <td>2013-01-01 10:39:00</td>\n",
       "      <td>00:55:00</td>\n",
       "      <td>3300.0</td>\n",
       "      <td>55.0</td>\n",
       "    </tr>\n",
       "  </tbody>\n",
       "</table>\n",
       "</div>"
      ],
      "text/plain": [
       "    dest              arrive     diff   diffs  diffminute\n",
       "29   ATL 2013-01-01 08:33:00 00:21:00  1260.0        21.0\n",
       "18   ATL 2013-01-01 08:37:00 00:04:00   240.0         4.0\n",
       "23   ATL 2013-01-01 08:37:00 00:00:00     0.0         0.0\n",
       "62   ATL 2013-01-01 09:44:00 01:07:00  4020.0        67.0\n",
       "101  ATL 2013-01-01 10:39:00 00:55:00  3300.0        55.0"
      ]
     },
     "execution_count": 20,
     "metadata": {},
     "output_type": "execute_result"
    }
   ],
   "source": [
    "ATL = ATL.sort_values(by=['arrive'])\n",
    "ATL['diff'] = ATL['arrive'].diff()\n",
    "ATL[\"diffs\"] = ATL['diff'].dt.total_seconds()\n",
    "ATL[\"diffminute\"] = ATL['diffs']/60\n",
    "ATL1 = ATL.dropna()\n",
    "ATL1.head()"
   ]
  },
  {
   "cell_type": "code",
   "execution_count": 21,
   "metadata": {},
   "outputs": [
    {
     "data": {
      "text/html": [
       "<div>\n",
       "<style scoped>\n",
       "    .dataframe tbody tr th:only-of-type {\n",
       "        vertical-align: middle;\n",
       "    }\n",
       "\n",
       "    .dataframe tbody tr th {\n",
       "        vertical-align: top;\n",
       "    }\n",
       "\n",
       "    .dataframe thead th {\n",
       "        text-align: right;\n",
       "    }\n",
       "</style>\n",
       "<table border=\"1\" class=\"dataframe\">\n",
       "  <thead>\n",
       "    <tr style=\"text-align: right;\">\n",
       "      <th></th>\n",
       "      <th>dest</th>\n",
       "      <th>arrive</th>\n",
       "      <th>diff</th>\n",
       "      <th>diffs</th>\n",
       "      <th>diffminute</th>\n",
       "    </tr>\n",
       "  </thead>\n",
       "  <tbody>\n",
       "    <tr>\n",
       "      <th>12</th>\n",
       "      <td>LAX</td>\n",
       "      <td>2013-01-01 09:24:00</td>\n",
       "      <td>08:58:00</td>\n",
       "      <td>32280.0</td>\n",
       "      <td>538.0</td>\n",
       "    </tr>\n",
       "    <tr>\n",
       "      <th>37</th>\n",
       "      <td>LAX</td>\n",
       "      <td>2013-01-01 10:16:00</td>\n",
       "      <td>00:52:00</td>\n",
       "      <td>3120.0</td>\n",
       "      <td>52.0</td>\n",
       "    </tr>\n",
       "    <tr>\n",
       "      <th>63</th>\n",
       "      <td>LAX</td>\n",
       "      <td>2013-01-01 10:27:00</td>\n",
       "      <td>00:11:00</td>\n",
       "      <td>660.0</td>\n",
       "      <td>11.0</td>\n",
       "    </tr>\n",
       "    <tr>\n",
       "      <th>69</th>\n",
       "      <td>LAX</td>\n",
       "      <td>2013-01-01 10:58:00</td>\n",
       "      <td>00:31:00</td>\n",
       "      <td>1860.0</td>\n",
       "      <td>31.0</td>\n",
       "    </tr>\n",
       "    <tr>\n",
       "      <th>91</th>\n",
       "      <td>LAX</td>\n",
       "      <td>2013-01-01 11:07:00</td>\n",
       "      <td>00:09:00</td>\n",
       "      <td>540.0</td>\n",
       "      <td>9.0</td>\n",
       "    </tr>\n",
       "  </tbody>\n",
       "</table>\n",
       "</div>"
      ],
      "text/plain": [
       "   dest              arrive     diff    diffs  diffminute\n",
       "12  LAX 2013-01-01 09:24:00 08:58:00  32280.0       538.0\n",
       "37  LAX 2013-01-01 10:16:00 00:52:00   3120.0        52.0\n",
       "63  LAX 2013-01-01 10:27:00 00:11:00    660.0        11.0\n",
       "69  LAX 2013-01-01 10:58:00 00:31:00   1860.0        31.0\n",
       "91  LAX 2013-01-01 11:07:00 00:09:00    540.0         9.0"
      ]
     },
     "execution_count": 21,
     "metadata": {},
     "output_type": "execute_result"
    }
   ],
   "source": [
    "LAX = LAX.sort_values(by=['arrive'])\n",
    "LAX['diff'] = LAX['arrive'].diff()\n",
    "LAX[\"diffs\"] = LAX['diff'].dt.total_seconds()\n",
    "LAX[\"diffminute\"] = LAX['diffs']/60\n",
    "LAX1 = LAX.dropna()\n",
    "LAX1.head()"
   ]
  },
  {
   "cell_type": "code",
   "execution_count": 22,
   "metadata": {},
   "outputs": [
    {
     "data": {
      "text/html": [
       "<div>\n",
       "<style scoped>\n",
       "    .dataframe tbody tr th:only-of-type {\n",
       "        vertical-align: middle;\n",
       "    }\n",
       "\n",
       "    .dataframe tbody tr th {\n",
       "        vertical-align: top;\n",
       "    }\n",
       "\n",
       "    .dataframe thead th {\n",
       "        text-align: right;\n",
       "    }\n",
       "</style>\n",
       "<table border=\"1\" class=\"dataframe\">\n",
       "  <thead>\n",
       "    <tr style=\"text-align: right;\">\n",
       "      <th></th>\n",
       "      <th>dest</th>\n",
       "      <th>arrive</th>\n",
       "      <th>diff</th>\n",
       "      <th>diffs</th>\n",
       "      <th>diffminute</th>\n",
       "    </tr>\n",
       "  </thead>\n",
       "  <tbody>\n",
       "    <tr>\n",
       "      <th>44</th>\n",
       "      <td>BOS</td>\n",
       "      <td>2013-01-01 07:39:00</td>\n",
       "      <td>00:37:00</td>\n",
       "      <td>2220.0</td>\n",
       "      <td>37.0</td>\n",
       "    </tr>\n",
       "    <tr>\n",
       "      <th>107</th>\n",
       "      <td>BOS</td>\n",
       "      <td>2013-01-01 09:00:00</td>\n",
       "      <td>01:21:00</td>\n",
       "      <td>4860.0</td>\n",
       "      <td>81.0</td>\n",
       "    </tr>\n",
       "    <tr>\n",
       "      <th>108</th>\n",
       "      <td>BOS</td>\n",
       "      <td>2013-01-01 09:03:00</td>\n",
       "      <td>00:03:00</td>\n",
       "      <td>180.0</td>\n",
       "      <td>3.0</td>\n",
       "    </tr>\n",
       "    <tr>\n",
       "      <th>126</th>\n",
       "      <td>BOS</td>\n",
       "      <td>2013-01-01 09:40:00</td>\n",
       "      <td>00:37:00</td>\n",
       "      <td>2220.0</td>\n",
       "      <td>37.0</td>\n",
       "    </tr>\n",
       "    <tr>\n",
       "      <th>190</th>\n",
       "      <td>BOS</td>\n",
       "      <td>2013-01-01 10:26:00</td>\n",
       "      <td>00:46:00</td>\n",
       "      <td>2760.0</td>\n",
       "      <td>46.0</td>\n",
       "    </tr>\n",
       "  </tbody>\n",
       "</table>\n",
       "</div>"
      ],
      "text/plain": [
       "    dest              arrive     diff   diffs  diffminute\n",
       "44   BOS 2013-01-01 07:39:00 00:37:00  2220.0        37.0\n",
       "107  BOS 2013-01-01 09:00:00 01:21:00  4860.0        81.0\n",
       "108  BOS 2013-01-01 09:03:00 00:03:00   180.0         3.0\n",
       "126  BOS 2013-01-01 09:40:00 00:37:00  2220.0        37.0\n",
       "190  BOS 2013-01-01 10:26:00 00:46:00  2760.0        46.0"
      ]
     },
     "execution_count": 22,
     "metadata": {},
     "output_type": "execute_result"
    }
   ],
   "source": [
    "BOS = BOS.sort_values(by=['arrive'])\n",
    "BOS['diff'] = BOS['arrive'].diff()\n",
    "BOS[\"diffs\"] = BOS['diff'].dt.total_seconds()\n",
    "BOS[\"diffminute\"] = BOS['diffs']/60\n",
    "BOS1 = BOS.dropna()\n",
    "BOS1.head()"
   ]
  },
  {
   "cell_type": "code",
   "execution_count": 23,
   "metadata": {},
   "outputs": [
    {
     "data": {
      "text/html": [
       "<div>\n",
       "<style scoped>\n",
       "    .dataframe tbody tr th:only-of-type {\n",
       "        vertical-align: middle;\n",
       "    }\n",
       "\n",
       "    .dataframe tbody tr th {\n",
       "        vertical-align: top;\n",
       "    }\n",
       "\n",
       "    .dataframe thead th {\n",
       "        text-align: right;\n",
       "    }\n",
       "</style>\n",
       "<table border=\"1\" class=\"dataframe\">\n",
       "  <thead>\n",
       "    <tr style=\"text-align: right;\">\n",
       "      <th></th>\n",
       "      <th>dest</th>\n",
       "      <th>arrive</th>\n",
       "      <th>diff</th>\n",
       "      <th>diffs</th>\n",
       "      <th>diffminute</th>\n",
       "    </tr>\n",
       "  </thead>\n",
       "  <tbody>\n",
       "    <tr>\n",
       "      <th>813</th>\n",
       "      <td>MCO</td>\n",
       "      <td>2013-01-01 00:43:00</td>\n",
       "      <td>00:37:00</td>\n",
       "      <td>2220.0</td>\n",
       "      <td>37.0</td>\n",
       "    </tr>\n",
       "    <tr>\n",
       "      <th>8</th>\n",
       "      <td>MCO</td>\n",
       "      <td>2013-01-01 08:38:00</td>\n",
       "      <td>07:55:00</td>\n",
       "      <td>28500.0</td>\n",
       "      <td>475.0</td>\n",
       "    </tr>\n",
       "    <tr>\n",
       "      <th>43</th>\n",
       "      <td>MCO</td>\n",
       "      <td>2013-01-01 09:30:00</td>\n",
       "      <td>00:52:00</td>\n",
       "      <td>3120.0</td>\n",
       "      <td>52.0</td>\n",
       "    </tr>\n",
       "    <tr>\n",
       "      <th>58</th>\n",
       "      <td>MCO</td>\n",
       "      <td>2013-01-01 09:49:00</td>\n",
       "      <td>00:19:00</td>\n",
       "      <td>1140.0</td>\n",
       "      <td>19.0</td>\n",
       "    </tr>\n",
       "    <tr>\n",
       "      <th>85</th>\n",
       "      <td>MCO</td>\n",
       "      <td>2013-01-01 10:11:00</td>\n",
       "      <td>00:22:00</td>\n",
       "      <td>1320.0</td>\n",
       "      <td>22.0</td>\n",
       "    </tr>\n",
       "  </tbody>\n",
       "</table>\n",
       "</div>"
      ],
      "text/plain": [
       "    dest              arrive     diff    diffs  diffminute\n",
       "813  MCO 2013-01-01 00:43:00 00:37:00   2220.0        37.0\n",
       "8    MCO 2013-01-01 08:38:00 07:55:00  28500.0       475.0\n",
       "43   MCO 2013-01-01 09:30:00 00:52:00   3120.0        52.0\n",
       "58   MCO 2013-01-01 09:49:00 00:19:00   1140.0        19.0\n",
       "85   MCO 2013-01-01 10:11:00 00:22:00   1320.0        22.0"
      ]
     },
     "execution_count": 23,
     "metadata": {},
     "output_type": "execute_result"
    }
   ],
   "source": [
    "MCO = MCO.sort_values(by=['arrive'])\n",
    "MCO['diff'] = MCO['arrive'].diff()\n",
    "MCO[\"diffs\"] = MCO['diff'].dt.total_seconds()\n",
    "MCO[\"diffminute\"] = MCO['diffs']/60\n",
    "MCO1 = MCO.dropna()\n",
    "MCO1.head()"
   ]
  },
  {
   "cell_type": "code",
   "execution_count": 24,
   "metadata": {
    "scrolled": false
   },
   "outputs": [
    {
     "data": {
      "text/html": [
       "<div>\n",
       "<style scoped>\n",
       "    .dataframe tbody tr th:only-of-type {\n",
       "        vertical-align: middle;\n",
       "    }\n",
       "\n",
       "    .dataframe tbody tr th {\n",
       "        vertical-align: top;\n",
       "    }\n",
       "\n",
       "    .dataframe thead th {\n",
       "        text-align: right;\n",
       "    }\n",
       "</style>\n",
       "<table border=\"1\" class=\"dataframe\">\n",
       "  <thead>\n",
       "    <tr style=\"text-align: right;\">\n",
       "      <th></th>\n",
       "      <th>arrive</th>\n",
       "      <th>dest</th>\n",
       "      <th>diff</th>\n",
       "      <th>diffminute</th>\n",
       "      <th>diffs</th>\n",
       "    </tr>\n",
       "  </thead>\n",
       "  <tbody>\n",
       "    <tr>\n",
       "      <th>29</th>\n",
       "      <td>2013-01-01 08:33:00</td>\n",
       "      <td>ATL</td>\n",
       "      <td>00:21:00</td>\n",
       "      <td>21.0</td>\n",
       "      <td>1260.0</td>\n",
       "    </tr>\n",
       "    <tr>\n",
       "      <th>18</th>\n",
       "      <td>2013-01-01 08:37:00</td>\n",
       "      <td>ATL</td>\n",
       "      <td>00:04:00</td>\n",
       "      <td>4.0</td>\n",
       "      <td>240.0</td>\n",
       "    </tr>\n",
       "    <tr>\n",
       "      <th>23</th>\n",
       "      <td>2013-01-01 08:37:00</td>\n",
       "      <td>ATL</td>\n",
       "      <td>00:00:00</td>\n",
       "      <td>0.0</td>\n",
       "      <td>0.0</td>\n",
       "    </tr>\n",
       "    <tr>\n",
       "      <th>62</th>\n",
       "      <td>2013-01-01 09:44:00</td>\n",
       "      <td>ATL</td>\n",
       "      <td>01:07:00</td>\n",
       "      <td>67.0</td>\n",
       "      <td>4020.0</td>\n",
       "    </tr>\n",
       "    <tr>\n",
       "      <th>101</th>\n",
       "      <td>2013-01-01 10:39:00</td>\n",
       "      <td>ATL</td>\n",
       "      <td>00:55:00</td>\n",
       "      <td>55.0</td>\n",
       "      <td>3300.0</td>\n",
       "    </tr>\n",
       "  </tbody>\n",
       "</table>\n",
       "</div>"
      ],
      "text/plain": [
       "                 arrive dest     diff  diffminute   diffs\n",
       "29  2013-01-01 08:33:00  ATL 00:21:00        21.0  1260.0\n",
       "18  2013-01-01 08:37:00  ATL 00:04:00         4.0   240.0\n",
       "23  2013-01-01 08:37:00  ATL 00:00:00         0.0     0.0\n",
       "62  2013-01-01 09:44:00  ATL 01:07:00        67.0  4020.0\n",
       "101 2013-01-01 10:39:00  ATL 00:55:00        55.0  3300.0"
      ]
     },
     "execution_count": 24,
     "metadata": {},
     "output_type": "execute_result"
    }
   ],
   "source": [
    "frames = [ATL1, ORD1, LAX1, BOS1, MCO1]\n",
    "data = pd.concat(frames, sort=True)\n",
    "data.head()"
   ]
  },
  {
   "cell_type": "code",
   "execution_count": 35,
   "metadata": {},
   "outputs": [
    {
     "data": {
      "text/plain": [
       "Text(0.5,1,'Histogram with Multiple Airports')"
      ]
     },
     "execution_count": 35,
     "metadata": {},
     "output_type": "execute_result"
    },
    {
     "data": {
      "image/png": "[encoded data removed]",
      "text/plain": [
       "<Figure size 432x288 with 1 Axes>"
      ]
     },
     "metadata": {},
     "output_type": "display_data"
    }
   ],
   "source": [
    "#plot together \n",
    "# Make a separate list for each airport\n",
    "x1 = list(ATL1['diffminute'])\n",
    "x2 = list(BOS1['diffminute'])\n",
    "x3 = list(LAX1['diffminute'])\n",
    "x4 = list(MCO1['diffminute'])\n",
    "x5 = list(ORD1['diffminute'])\n",
    "\n",
    "# Assign colors for each airline and the names\n",
    "colors = ['#E69F00', '#56B4E9', '#F0E442', '#009E73', '#D55E00']\n",
    "names = ['ATL','BOS','LAX','MCO','ORD']\n",
    "         \n",
    "# Make the histogram using a list of lists\n",
    "# Normalize the flights and assign colors and names\n",
    "plt.hist([x1, x2, x3, x4, x5],color = colors, label=names)\n",
    "\n",
    "# Plot formatting\n",
    "plt.legend()\n",
    "plt.xlabel('Inter arrival time (min)')\n",
    "plt.ylabel('Count')\n",
    "plt.title('Histogram with Multiple Airports')"
   ]
  },
  {
   "cell_type": "code",
   "execution_count": 36,
   "metadata": {},
   "outputs": [
    {
     "data": {
      "image/png": "[encoded data removed]",
      "text/plain": [
       "<Figure size 2160x576 with 10 Axes>"
      ]
     },
     "metadata": {},
     "output_type": "display_data"
    }
   ],
   "source": [
    "#plot seperately \n",
    "fig, axs = plt.subplots(nrows=2, ncols=5,figsize=(30,8))\n",
    "fig.subplots_adjust(left=None, bottom=None, right=None, top=1.5, wspace=0.2, hspace=0.5)\n",
    "\n",
    "axs = axs.ravel()\n",
    "k=0\n",
    "top5=top10.head(5)\n",
    "name=top5.index\n",
    "for i in name:\n",
    "    airp=airports[airports['faa']==i]['name']\n",
    "    plotdata=pd.DataFrame()\n",
    "    timedata=times[times['dest']==i]['arrive'].sort_values().diff().dropna()\n",
    "    plotdata['value']=timedata.value_counts().sort_index()\n",
    "    plotdata['min']=pd.DataFrame(pd.to_timedelta(plotdata.index)/ pd.offsets.Minute(1),index=plotdata.index)\n",
    "    axs[k].bar(plotdata['min'],plotdata['value'], color='g')\n",
    "    axs[k].set_ylabel('Count')\n",
    "    axs[k].set_xlabel('Time Interval')\n",
    "    axs[k].set_title(str(airp.values[0]))\n",
    "    axs[k+5].plot(plotdata['min'],plotdata['value']/len(times[times['dest']==i]['arrive']), color='b')\n",
    "    axs[k+5].set_ylabel('Density')\n",
    "    axs[k+5].set_xlabel('Time Interval')\n",
    "    axs[k+5].set_title(str(airp.values[0]))\n",
    "    k=k+1\n",
    "    \n",
    "plt.show()"
   ]
  },
  {
   "cell_type": "markdown",
   "metadata": {},
   "source": [
    "### Part B"
   ]
  },
  {
   "cell_type": "markdown",
   "metadata": {},
   "source": [
    "### Quesiton i."
   ]
  },
  {
   "cell_type": "code",
   "execution_count": 1,
   "metadata": {},
   "outputs": [],
   "source": [
    "import pymysql as myDB\n",
    "\n",
    "conn = myDB.connect('localhost', 'root', 'root') \n",
    "cursor = conn.cursor()"
   ]
  },
  {
   "cell_type": "code",
   "execution_count": 3,
   "metadata": {},
   "outputs": [
    {
     "data": {
      "text/plain": [
       "3"
      ]
     },
     "execution_count": 3,
     "metadata": {},
     "output_type": "execute_result"
    }
   ],
   "source": [
    "sql = ' DROP DATABASE IF EXISTS MYFLTDATA; ' \n",
    "cursor.execute(sql)"
   ]
  },
  {
   "cell_type": "code",
   "execution_count": 4,
   "metadata": {},
   "outputs": [
    {
     "data": {
      "text/plain": [
       "1"
      ]
     },
     "execution_count": 4,
     "metadata": {},
     "output_type": "execute_result"
    }
   ],
   "source": [
    "sql = ' CREATE DATABASE MYFLTDATA; ' \n",
    "cursor.execute(sql)"
   ]
  },
  {
   "cell_type": "code",
   "execution_count": 5,
   "metadata": {},
   "outputs": [],
   "source": [
    "sql = ' USE MYFLTDATA; ' \n",
    "cursor.execute(sql)\n",
    "cursor.close()"
   ]
  },
  {
   "cell_type": "markdown",
   "metadata": {},
   "source": [
    "### Quesiton ii."
   ]
  },
  {
   "cell_type": "code",
   "execution_count": 6,
   "metadata": {},
   "outputs": [
    {
     "name": "stderr",
     "output_type": "stream",
     "text": [
      "C:\\Users\\hp\\Anaconda3\\lib\\site-packages\\pymysql\\cursors.py:170: Warning: (1051, \"Unknown table 'myfltdata.flights'\")\n",
      "  result = self._query(query)\n"
     ]
    },
    {
     "data": {
      "text/plain": [
       "0"
      ]
     },
     "execution_count": 6,
     "metadata": {},
     "output_type": "execute_result"
    }
   ],
   "source": [
    "cursor = conn.cursor()\n",
    "\n",
    "sql = 'DROP TABLE IF EXISTS flights;'\n",
    "\n",
    "cursor.execute(sql)\n",
    "\n",
    "sql = '''\n",
    "        CREATE TABLE flights ( fltId INTEGER,\n",
    "        year INTEGER,\n",
    "        month INTEGER,\n",
    "        day INTEGER,\n",
    "        dep_time INTEGER,\n",
    "        sched_dep_time INTEGER,\n",
    "        dep_delay INTEGER,\n",
    "        arr_time INTEGER,\n",
    "        sched_arr_time INTEGER,\n",
    "        arr_delay INTEGER,\n",
    "        carrier VARCHAR(15),\n",
    "        flight INTEGER,\n",
    "        tailnum  VARCHAR(15),\n",
    "        origin VARCHAR(15),\n",
    "        dest VARCHAR(15),\n",
    "        air_time INTEGER,\n",
    "        distance INTEGER,\n",
    "        hour INTEGER,\n",
    "        minute INTEGER,\n",
    "        time_hour TIMESTAMP\n",
    "        );\n",
    "    '''\n",
    "cursor.execute(sql)\n"
   ]
  },
  {
   "cell_type": "code",
   "execution_count": 8,
   "metadata": {},
   "outputs": [],
   "source": [
    "import pandas as pd\n",
    "flights = pd.read_csv('flights.csv')\n",
    "flights = flights.where(pd.notnull(flights), 'NULL')"
   ]
  },
  {
   "cell_type": "code",
   "execution_count": 9,
   "metadata": {},
   "outputs": [],
   "source": [
    "cursor = conn.cursor()\n",
    "for row in flights.values.tolist():\n",
    "    cursor.execute('''\n",
    "            INSERT INTO flights(\n",
    "            fltId, year, month, day, dep_time, sched_dep_time,\n",
    "            dep_delay, arr_time, sched_arr_time, arr_delay, carrier, flight,\n",
    "            tailnum, origin, dest, air_time, distance, hour, minute,time_hour )\n",
    "            VALUES({},{},{},{},{},{},{},{},{},{},'{}',{},'{}','{}','{}',{},{},{},{},'{}');\n",
    "          '''.format(*row[0:]))"
   ]
  },
  {
   "cell_type": "code",
   "execution_count": 10,
   "metadata": {},
   "outputs": [
    {
     "name": "stderr",
     "output_type": "stream",
     "text": [
      "C:\\Users\\hp\\Anaconda3\\lib\\site-packages\\pymysql\\cursors.py:170: Warning: (1051, \"Unknown table 'myfltdata.weather'\")\n",
      "  result = self._query(query)\n"
     ]
    },
    {
     "data": {
      "text/plain": [
       "0"
      ]
     },
     "execution_count": 10,
     "metadata": {},
     "output_type": "execute_result"
    }
   ],
   "source": [
    "cursor = conn.cursor()\n",
    "\n",
    "sql = 'DROP TABLE IF EXISTS weather;'\n",
    "\n",
    "cursor.execute(sql)\n",
    "\n",
    "sql = '''\n",
    "        CREATE TABLE weather ( wthId INTEGER,\n",
    "        origin CHAR(20),\n",
    "        year  INTEGER,\n",
    "        month INTEGER,\n",
    "        day INTEGER,\n",
    "        hour INTEGER,\n",
    "        temp FLOAT,\n",
    "        dewp FLOAT,\n",
    "        humid FLOAT,\n",
    "        wind_dir INTEGER,\n",
    "        wind_speed FLOAT,\n",
    "        wind_gust FLOAT,\n",
    "        precip FLOAT,\n",
    "        pressure FLOAT,\n",
    "        visib FLOAT,\n",
    "        time_hour TIMESTAMP\n",
    "        );\n",
    "    '''\n",
    "cursor.execute(sql)"
   ]
  },
  {
   "cell_type": "code",
   "execution_count": 11,
   "metadata": {},
   "outputs": [],
   "source": [
    "weather = pd.read_csv('weather.csv')\n",
    "weather = weather.where(pd.notnull(weather), 'NULL')"
   ]
  },
  {
   "cell_type": "code",
   "execution_count": 12,
   "metadata": {},
   "outputs": [],
   "source": [
    "for row in weather.values.tolist():\n",
    "    cursor.execute('''\n",
    "            INSERT INTO weather(\n",
    "            wthId, origin, year, month, day, hour, temp,\n",
    "            dewp, humid, wind_dir, wind_speed, wind_gust, precip,\n",
    "            pressure, visib, time_hour )\n",
    "            VALUES({},'{}',{},{},{},{},{},{},{},{},{},{},{},{},{},'{}');\n",
    "          '''.format(*row[0:]))"
   ]
  },
  {
   "cell_type": "markdown",
   "metadata": {},
   "source": [
    "### Quesiton iii."
   ]
  },
  {
   "cell_type": "code",
   "execution_count": 17,
   "metadata": {},
   "outputs": [
    {
     "name": "stdout",
     "output_type": "stream",
     "text": [
      "((7, 2013, 1, 1, 555, 600, -5, 913, 854, 19, 'B6', 507, 'N516JB', 'EWR', 'FLL', 158, 1065, 6, 0, datetime.datetime(2013, 1, 1, 6, 0), 6, 'EWR', 2013, 1, 1, 6, 39.02, 26.06, 59.37, 270, 10.357, 11.9187, 0.0, 1012.0, 10.0, datetime.datetime(2013, 1, 1, 1, 0)), (14, 2013, 1, 1, 558, 600, -2, 923, 937, -14, 'UA', 1124, 'N53441', 'EWR', 'SFO', 361, 2565, 6, 0, datetime.datetime(2013, 1, 1, 6, 0), 6, 'EWR', 2013, 1, 1, 6, 39.02, 26.06, 59.37, 270, 10.357, 11.9187, 0.0, 1012.0, 10.0, datetime.datetime(2013, 1, 1, 1, 0)), (17, 2013, 1, 1, 559, 600, -1, 854, 902, -8, 'UA', 1187, 'N76515', 'EWR', 'LAS', 337, 2227, 6, 0, datetime.datetime(2013, 1, 1, 6, 0), 6, 'EWR', 2013, 1, 1, 6, 39.02, 26.06, 59.37, 270, 10.357, 11.9187, 0.0, 1012.0, 10.0, datetime.datetime(2013, 1, 1, 1, 0)), (20, 2013, 1, 1, 601, 600, 1, 844, 850, -6, 'B6', 343, 'N644JB', 'EWR', 'PBI', 147, 1023, 6, 0, datetime.datetime(2013, 1, 1, 6, 0), 6, 'EWR', 2013, 1, 1, 6, 39.02, 26.06, 59.37, 270, 10.357, 11.9187, 0.0, 1012.0, 10.0, datetime.datetime(2013, 1, 1, 1, 0)), (23, 2013, 1, 1, 606, 610, -4, 858, 910, -12, 'AA', 1895, 'N633AA', 'EWR', 'MIA', 152, 1085, 6, 10, datetime.datetime(2013, 1, 1, 6, 0), 6, 'EWR', 2013, 1, 1, 6, 39.02, 26.06, 59.37, 270, 10.357, 11.9187, 0.0, 1012.0, 10.0, datetime.datetime(2013, 1, 1, 1, 0)), (25, 2013, 1, 1, 607, 607, 0, 858, 915, -17, 'UA', 1077, 'N53442', 'EWR', 'MIA', 157, 1085, 6, 7, datetime.datetime(2013, 1, 1, 6, 0), 6, 'EWR', 2013, 1, 1, 6, 39.02, 26.06, 59.37, 270, 10.357, 11.9187, 0.0, 1012.0, 10.0, datetime.datetime(2013, 1, 1, 1, 0)), (26, 2013, 1, 1, 608, 600, 8, 807, 735, 32, 'MQ', 3768, 'N9EAMQ', 'EWR', 'ORD', 139, 719, 6, 0, datetime.datetime(2013, 1, 1, 6, 0), 6, 'EWR', 2013, 1, 1, 6, 39.02, 26.06, 59.37, 270, 10.357, 11.9187, 0.0, 1012.0, 10.0, datetime.datetime(2013, 1, 1, 1, 0)), (30, 2013, 1, 1, 615, 615, 0, 833, 842, -9, 'DL', 575, 'N326NB', 'EWR', 'ATL', 120, 746, 6, 15, datetime.datetime(2013, 1, 1, 6, 0), 6, 'EWR', 2013, 1, 1, 6, 39.02, 26.06, 59.37, 270, 10.357, 11.9187, 0.0, 1012.0, 10.0, datetime.datetime(2013, 1, 1, 1, 0)), (31, 2013, 1, 1, 622, 630, -8, 1017, 1014, 3, 'US', 245, 'N807AW', 'EWR', 'PHX', 342, 2133, 6, 30, datetime.datetime(2013, 1, 1, 6, 0), 6, 'EWR', 2013, 1, 1, 6, 39.02, 26.06, 59.37, 270, 10.357, 11.9187, 0.0, 1012.0, 10.0, datetime.datetime(2013, 1, 1, 1, 0)), (34, 2013, 1, 1, 624, 630, -6, 909, 840, 29, 'EV', 4626, 'N11107', 'EWR', 'MSP', 190, 1008, 6, 30, datetime.datetime(2013, 1, 1, 6, 0), 6, 'EWR', 2013, 1, 1, 6, 39.02, 26.06, 59.37, 270, 10.357, 11.9187, 0.0, 1012.0, 10.0, datetime.datetime(2013, 1, 1, 1, 0)))\n"
     ]
    }
   ],
   "source": [
    "#Attention: This cell can run successfully, but taking around 1 hour. So we limit it for 10 rows.\n",
    "sql = '''SELECT * FROM flights\n",
    "         LEFT OUTER JOIN weather\n",
    "         ON flights.year=weather.year and flights.month=weather.month and flights.day=weather.day and flights.hour=weather.hour and flights.origin=weather.origin\n",
    "         LIMIT 10;\n",
    "'''\n",
    "\n",
    "cursor.execute(sql)\n",
    "b=cursor.fetchall()\n",
    "print(b)"
   ]
  },
  {
   "cell_type": "markdown",
   "metadata": {},
   "source": [
    "### Quesiton iv."
   ]
  },
  {
   "cell_type": "code",
   "execution_count": 15,
   "metadata": {},
   "outputs": [
    {
     "data": {
      "text/plain": [
       "18"
      ]
     },
     "execution_count": 15,
     "metadata": {},
     "output_type": "execute_result"
    }
   ],
   "source": [
    "cursor = conn.cursor()\n",
    "sql = 'DROP TABLE IF EXISTS mydelay;'\n",
    "\n",
    "cursor.execute(sql)\n",
    "\n",
    "sql = '''\n",
    "        CREATE TABLE  mydelay ( fltId INTEGER,\n",
    "        year INTEGER,\n",
    "        month INTEGER,\n",
    "        day INTEGER,\n",
    "        dep_time INTEGER,\n",
    "        sched_dep_time INTEGER,\n",
    "        dep_delay INTEGER,\n",
    "        arr_time INTEGER,\n",
    "        sched_arr_time INTEGER,\n",
    "        arr_delay INTEGER,\n",
    "        carrier VARCHAR(15),\n",
    "        flight INTEGER,\n",
    "        tailnum  VARCHAR(15),\n",
    "        origin VARCHAR(15),\n",
    "        dest VARCHAR(15),\n",
    "        air_time INTEGER,\n",
    "        distance INTEGER,\n",
    "        hour INTEGER,\n",
    "        minute INTEGER,\n",
    "        time_hour TIMESTAMP\n",
    "        );\n",
    "    '''\n",
    "cursor.execute(sql)\n",
    "\n",
    "sql='''INSERT INTO mydelay\n",
    "       SELECT * \n",
    "       FROM flights\n",
    "       WHERE origin='JFK' and dep_delay>600\n",
    "       \n",
    "       \n",
    "'''\n",
    "cursor.execute(sql)\n"
   ]
  },
  {
   "cell_type": "markdown",
   "metadata": {},
   "source": [
    "### Quesiton v."
   ]
  },
  {
   "cell_type": "code",
   "execution_count": 20,
   "metadata": {},
   "outputs": [
    {
     "name": "stdout",
     "output_type": "stream",
     "text": [
      "((57.45, 69.69, 12.55, 0.01),)\n"
     ]
    }
   ],
   "source": [
    "cursor = conn.cursor()\n",
    "sql = '''\n",
    "        SELECT ROUND(AVG(temp),2), ROUND(AVG(humid),2), ROUND(AVG(wind_speed),2), ROUND(AVG(precip),2) FROM mydelay \n",
    "        LEFT JOIN weather\n",
    "        ON mydelay.time_hour = weather.time_hour\n",
    "        ;\n",
    "        \n",
    "    '''\n",
    "cursor.execute(sql)\n",
    "result = cursor.fetchall()\n",
    "print(result)\n",
    "cursor.close()"
   ]
  },
  {
   "cell_type": "markdown",
   "metadata": {},
   "source": [
    "### Quesiton vi."
   ]
  },
  {
   "cell_type": "code",
   "execution_count": 23,
   "metadata": {},
   "outputs": [
    {
     "name": "stdout",
     "output_type": "stream",
     "text": [
      "((35.06, 41.51, 14.9601, 0.0), (44.96, 73.59, 4.60312, 0.0), (33.98, 51.47, 14.9601, 0.0), (33.8, 86.49, 17.2617, 0.04), (55.4, 87.65, 11.5078, 0.11), (57.2, 93.69, 26.4679, 0.0), (57.2, 93.69, 26.4679, 0.0), (57.02, 93.08, 12.6586, 0.04), (68.0, 72.92, 4.60312, 0.0), (77.0, 78.48, 12.6586, 0.0), (75.02, 81.79, 14.9601, 0.0), (84.02, 67.15, 9.20624, 0.0), (78.8, 83.55, 13.8094, 0.0), (78.98, 87.7, 10.357, 0.01), (66.02, 78.08, 9.20624, 0.0), (30.02, 26.89, 29.9203, 0.0), (44.96, 68.05, 6.90468, 0.0), (26.6, 79.77, 20.714, 0.0))\n"
     ]
    }
   ],
   "source": [
    "import matplotlib.pyplot as plt\n",
    "import pandas as pd\n",
    "import csv\n",
    "\n",
    "cursor = conn.cursor()\n",
    "sql = '''\n",
    "        SELECT temp, humid, wind_speed, precip FROM mydelay \n",
    "        LEFT JOIN weather\n",
    "        ON mydelay.time_hour = weather.time_hour\n",
    "        AND mydelay.origin = weather.origin\n",
    "        ;\n",
    "        \n",
    "    '''\n",
    "cursor.execute(sql)\n",
    "result = cursor.fetchall()\n",
    "print(result)\n",
    "cursor.close()\n",
    "\n",
    "with open('mydelay_weather.csv', 'w') as fp:\n",
    "    a = csv.writer(fp, delimiter=',')\n",
    "    a.writerows(result)"
   ]
  },
  {
   "cell_type": "code",
   "execution_count": 24,
   "metadata": {},
   "outputs": [
    {
     "data": {
      "text/plain": [
       "array([[<matplotlib.axes._subplots.AxesSubplot object at 0x000001B9B0518EB8>]],\n",
       "      dtype=object)"
      ]
     },
     "execution_count": 24,
     "metadata": {},
     "output_type": "execute_result"
    },
    {
     "data": {
      "image/png": "[encoded data removed]",
      "text/plain": [
       "<Figure size 432x288 with 1 Axes>"
      ]
     },
     "metadata": {},
     "output_type": "display_data"
    },
    {
     "data": {
      "image/png": "[encoded data removed]",
      "text/plain": [
       "<Figure size 432x288 with 1 Axes>"
      ]
     },
     "metadata": {},
     "output_type": "display_data"
    },
    {
     "data": {
      "image/png": "[encoded data removed]",
      "text/plain": [
       "<Figure size 432x288 with 1 Axes>"
      ]
     },
     "metadata": {},
     "output_type": "display_data"
    },
    {
     "data": {
      "image/png": "[encoded data removed]",
      "text/plain": [
       "<Figure size 432x288 with 1 Axes>"
      ]
     },
     "metadata": {},
     "output_type": "display_data"
    }
   ],
   "source": [
    "plotdata = pd.read_csv('mydelay_weather.csv', header = None, sep=',', names = [\"temp\", \"humid\", \"wind_speed\", \"precip\"])\n",
    "plotdata.hist(column='temp', bins = 15, grid = False, color='dodgerblue', zorder=2, rwidth=0.9)\n",
    "plotdata.hist(column='humid', bins = 15, grid = False, color='goldenrod')\n",
    "plotdata.hist(column='wind_speed', bins = 15, grid = False, color='salmon')\n",
    "plotdata.hist(column='precip', bins = 15, grid = False, color='darkgray')"
   ]
  },
  {
   "cell_type": "markdown",
   "metadata": {},
   "source": [
    "### Quesiton vii."
   ]
  },
  {
   "cell_type": "code",
   "execution_count": 26,
   "metadata": {},
   "outputs": [],
   "source": [
    "cursor = conn.cursor()\n",
    "sql = '''\n",
    "        SELECT * FROM mydelay \n",
    "        ;\n",
    "        \n",
    "    '''\n",
    "cursor.execute(sql)\n",
    "data = cursor.fetchall()\n",
    "\n",
    "with open('mydelay.csv', 'w') as fp:\n",
    "    a = csv.writer(fp, delimiter=',')\n",
    "    a.writerows(data)\n",
    "        \n",
    "cursor.close()\n",
    "\n",
    "mydelay_temp = pd.read_csv('mydelay.csv', sep=',')"
   ]
  },
  {
   "cell_type": "markdown",
   "metadata": {},
   "source": [
    "### Quesiton viii."
   ]
  },
  {
   "cell_type": "code",
   "execution_count": 27,
   "metadata": {},
   "outputs": [
    {
     "data": {
      "text/html": [
       "<div>\n",
       "<style scoped>\n",
       "    .dataframe tbody tr th:only-of-type {\n",
       "        vertical-align: middle;\n",
       "    }\n",
       "\n",
       "    .dataframe tbody tr th {\n",
       "        vertical-align: top;\n",
       "    }\n",
       "\n",
       "    .dataframe thead th {\n",
       "        text-align: right;\n",
       "    }\n",
       "</style>\n",
       "<table border=\"1\" class=\"dataframe\">\n",
       "  <thead>\n",
       "    <tr style=\"text-align: right;\">\n",
       "      <th></th>\n",
       "      <th>fltId</th>\n",
       "      <th>year</th>\n",
       "      <th>month</th>\n",
       "      <th>day</th>\n",
       "      <th>dep_time</th>\n",
       "      <th>sched_dep_time</th>\n",
       "      <th>dep_delay</th>\n",
       "      <th>arr_time</th>\n",
       "      <th>sched_arr_time</th>\n",
       "      <th>arr_delay</th>\n",
       "      <th>carrier</th>\n",
       "      <th>flight</th>\n",
       "      <th>tailnum</th>\n",
       "      <th>origin</th>\n",
       "      <th>dest</th>\n",
       "      <th>air_time</th>\n",
       "      <th>distance</th>\n",
       "      <th>hour</th>\n",
       "      <th>minute</th>\n",
       "      <th>time_hour</th>\n",
       "    </tr>\n",
       "  </thead>\n",
       "  <tbody>\n",
       "    <tr>\n",
       "      <th>0</th>\n",
       "      <td>152</td>\n",
       "      <td>2013</td>\n",
       "      <td>1</td>\n",
       "      <td>1</td>\n",
       "      <td>848</td>\n",
       "      <td>1835</td>\n",
       "      <td>853</td>\n",
       "      <td>1001.0</td>\n",
       "      <td>1950</td>\n",
       "      <td>851.0</td>\n",
       "      <td>MQ</td>\n",
       "      <td>3944</td>\n",
       "      <td>N942MQ</td>\n",
       "      <td>JFK</td>\n",
       "      <td>BWI</td>\n",
       "      <td>41.0</td>\n",
       "      <td>184</td>\n",
       "      <td>18</td>\n",
       "      <td>35</td>\n",
       "      <td>2013-01-01 18:00:00</td>\n",
       "    </tr>\n",
       "    <tr>\n",
       "      <th>1</th>\n",
       "      <td>7073</td>\n",
       "      <td>2013</td>\n",
       "      <td>1</td>\n",
       "      <td>9</td>\n",
       "      <td>641</td>\n",
       "      <td>900</td>\n",
       "      <td>1301</td>\n",
       "      <td>1242.0</td>\n",
       "      <td>1530</td>\n",
       "      <td>1272.0</td>\n",
       "      <td>HA</td>\n",
       "      <td>51</td>\n",
       "      <td>N384HA</td>\n",
       "      <td>JFK</td>\n",
       "      <td>HNL</td>\n",
       "      <td>640.0</td>\n",
       "      <td>4983</td>\n",
       "      <td>9</td>\n",
       "      <td>0</td>\n",
       "      <td>2013-01-09 09:00:00</td>\n",
       "    </tr>\n",
       "    <tr>\n",
       "      <th>2</th>\n",
       "      <td>78048</td>\n",
       "      <td>2013</td>\n",
       "      <td>11</td>\n",
       "      <td>24</td>\n",
       "      <td>2301</td>\n",
       "      <td>1225</td>\n",
       "      <td>636</td>\n",
       "      <td>149.0</td>\n",
       "      <td>1535</td>\n",
       "      <td>614.0</td>\n",
       "      <td>AA</td>\n",
       "      <td>1697</td>\n",
       "      <td>N634AA</td>\n",
       "      <td>JFK</td>\n",
       "      <td>MIA</td>\n",
       "      <td>143.0</td>\n",
       "      <td>1089</td>\n",
       "      <td>12</td>\n",
       "      <td>25</td>\n",
       "      <td>2013-11-24 12:00:00</td>\n",
       "    </tr>\n",
       "    <tr>\n",
       "      <th>3</th>\n",
       "      <td>83243</td>\n",
       "      <td>2013</td>\n",
       "      <td>12</td>\n",
       "      <td>1</td>\n",
       "      <td>657</td>\n",
       "      <td>1930</td>\n",
       "      <td>687</td>\n",
       "      <td>1010.0</td>\n",
       "      <td>2249</td>\n",
       "      <td>681.0</td>\n",
       "      <td>DL</td>\n",
       "      <td>1091</td>\n",
       "      <td>N342NW</td>\n",
       "      <td>JFK</td>\n",
       "      <td>SAT</td>\n",
       "      <td>211.0</td>\n",
       "      <td>1587</td>\n",
       "      <td>19</td>\n",
       "      <td>30</td>\n",
       "      <td>2013-12-01 19:00:00</td>\n",
       "    </tr>\n",
       "    <tr>\n",
       "      <th>4</th>\n",
       "      <td>95531</td>\n",
       "      <td>2013</td>\n",
       "      <td>12</td>\n",
       "      <td>14</td>\n",
       "      <td>830</td>\n",
       "      <td>1845</td>\n",
       "      <td>825</td>\n",
       "      <td>1210.0</td>\n",
       "      <td>2154</td>\n",
       "      <td>856.0</td>\n",
       "      <td>DL</td>\n",
       "      <td>2391</td>\n",
       "      <td>N939DL</td>\n",
       "      <td>JFK</td>\n",
       "      <td>TPA</td>\n",
       "      <td>173.0</td>\n",
       "      <td>1005</td>\n",
       "      <td>18</td>\n",
       "      <td>45</td>\n",
       "      <td>2013-12-14 18:00:00</td>\n",
       "    </tr>\n",
       "  </tbody>\n",
       "</table>\n",
       "</div>"
      ],
      "text/plain": [
       "   fltId  year  month  day  dep_time  sched_dep_time  dep_delay  arr_time  \\\n",
       "0    152  2013      1    1       848            1835        853    1001.0   \n",
       "1   7073  2013      1    9       641             900       1301    1242.0   \n",
       "2  78048  2013     11   24      2301            1225        636     149.0   \n",
       "3  83243  2013     12    1       657            1930        687    1010.0   \n",
       "4  95531  2013     12   14       830            1845        825    1210.0   \n",
       "\n",
       "   sched_arr_time  arr_delay carrier  flight tailnum origin dest  air_time  \\\n",
       "0            1950      851.0      MQ    3944  N942MQ    JFK  BWI      41.0   \n",
       "1            1530     1272.0      HA      51  N384HA    JFK  HNL     640.0   \n",
       "2            1535      614.0      AA    1697  N634AA    JFK  MIA     143.0   \n",
       "3            2249      681.0      DL    1091  N342NW    JFK  SAT     211.0   \n",
       "4            2154      856.0      DL    2391  N939DL    JFK  TPA     173.0   \n",
       "\n",
       "   distance  hour  minute            time_hour  \n",
       "0       184    18      35  2013-01-01 18:00:00  \n",
       "1      4983     9       0  2013-01-09 09:00:00  \n",
       "2      1089    12      25  2013-11-24 12:00:00  \n",
       "3      1587    19      30  2013-12-01 19:00:00  \n",
       "4      1005    18      45  2013-12-14 18:00:00  "
      ]
     },
     "execution_count": 27,
     "metadata": {},
     "output_type": "execute_result"
    }
   ],
   "source": [
    "mydelay = pd.read_csv(\"mydelay.csv\", header = None, sep=',', names = [\"fltId\", \"year\", \"month\", \"day\", \"dep_time\",\n",
    "                                                                     \"sched_dep_time\", \"dep_delay\",\"arr_time\",\"sched_arr_time\",\n",
    "                                                                     \"arr_delay\",\"carrier\", \"flight\", \"tailnum\",\"origin\",\n",
    "                                                                     \"dest\",\"air_time\",\"distance\",\"hour\",\"minute\", \"time_hour\"])\n",
    "mydelay.head()"
   ]
  },
  {
   "cell_type": "code",
   "execution_count": 28,
   "metadata": {},
   "outputs": [
    {
     "data": {
      "text/plain": [
       "array([[<matplotlib.axes._subplots.AxesSubplot object at 0x000001B9AF8E0208>,\n",
       "        <matplotlib.axes._subplots.AxesSubplot object at 0x000001B9B04DAC18>],\n",
       "       [<matplotlib.axes._subplots.AxesSubplot object at 0x000001B9B04A05F8>,\n",
       "        <matplotlib.axes._subplots.AxesSubplot object at 0x000001B9B05D9B70>],\n",
       "       [<matplotlib.axes._subplots.AxesSubplot object at 0x000001B9B04C9CF8>,\n",
       "        <matplotlib.axes._subplots.AxesSubplot object at 0x000001B9B04C9DA0>]],\n",
       "      dtype=object)"
      ]
     },
     "execution_count": 28,
     "metadata": {},
     "output_type": "execute_result"
    },
    {
     "data": {
      "image/png": "[encoded data removed]",
      "text/plain": [
       "<Figure size 432x288 with 6 Axes>"
      ]
     },
     "metadata": {},
     "output_type": "display_data"
    }
   ],
   "source": [
    "mydelay.hist(by='carrier', column='arr_delay')"
   ]
  },
  {
   "cell_type": "code",
   "execution_count": 29,
   "metadata": {},
   "outputs": [
    {
     "data": {
      "text/plain": [
       "carrier\n",
       "9E    AxesSubplot(0.125,0.125;0.775x0.755)\n",
       "AA    AxesSubplot(0.125,0.125;0.775x0.755)\n",
       "DL    AxesSubplot(0.125,0.125;0.775x0.755)\n",
       "HA    AxesSubplot(0.125,0.125;0.775x0.755)\n",
       "MQ    AxesSubplot(0.125,0.125;0.775x0.755)\n",
       "VX    AxesSubplot(0.125,0.125;0.775x0.755)\n",
       "Name: arr_delay, dtype: object"
      ]
     },
     "execution_count": 29,
     "metadata": {},
     "output_type": "execute_result"
    },
    {
     "data": {
      "image/png": "[encoded data removed]",
      "text/plain": [
       "<Figure size 864x432 with 1 Axes>"
      ]
     },
     "metadata": {},
     "output_type": "display_data"
    }
   ],
   "source": [
    "us_airlines_index = mydelay['carrier'].isin(['9E','MQ','AA','HA','DL','VX']) \n",
    "us_airlines = mydelay[us_airlines_index] \n",
    "group_carriers = us_airlines.groupby('carrier')['arr_delay'] \n",
    "group_carriers.plot(kind='hist', figsize=[12,6], alpha=0.6, legend=True) "
   ]
  }
 ],
 "metadata": {
  "kernelspec": {
   "display_name": "Python 3",
   "language": "python",
   "name": "python3"
  },
  "language_info": {
   "codemirror_mode": {
    "name": "ipython",
    "version": 3
   },
   "file_extension": ".py",
   "mimetype": "text/x-python",
   "name": "python",
   "nbconvert_exporter": "python",
   "pygments_lexer": "ipython3",
   "version": "3.6.5"
  }
 },
 "nbformat": 4,
 "nbformat_minor": 2
}
